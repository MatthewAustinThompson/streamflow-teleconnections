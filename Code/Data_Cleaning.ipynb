{
 "cells": [
  {
   "cell_type": "markdown",
   "metadata": {},
   "source": [
    "The goal of this file is to clean all the datasets that will be used for this project and save them as new CSVs for easy future use."
   ]
  },
  {
   "cell_type": "markdown",
   "metadata": {},
   "source": [
    "## Import Packages"
   ]
  },
  {
   "cell_type": "code",
   "execution_count": 1,
   "metadata": {},
   "outputs": [],
   "source": [
    "import numpy as np\n",
    "import pandas as pd\n",
    "import matplotlib.pyplot as plt\n",
    "import seaborn as sns\n",
    "import chardet\n",
    "import datetime\n",
    "from pandas.plotting import scatter_matrix"
   ]
  },
  {
   "cell_type": "markdown",
   "metadata": {},
   "source": [
    "## Obtain Metadata"
   ]
  },
  {
   "cell_type": "markdown",
   "metadata": {},
   "source": [
    "### Find File Encoding"
   ]
  },
  {
   "cell_type": "code",
   "execution_count": 2,
   "metadata": {},
   "outputs": [],
   "source": [
    "file_path = \"../Data/Streamflow_Drought_Data/Colorado_Metadata_All_2021_1103.csv\""
   ]
  },
  {
   "cell_type": "code",
   "execution_count": 3,
   "metadata": {},
   "outputs": [
    {
     "name": "stdout",
     "output_type": "stream",
     "text": [
      "{'encoding': 'ISO-8859-1', 'confidence': 0.73, 'language': ''}\n"
     ]
    }
   ],
   "source": [
    "with open(file_path, 'rb') as file:\n",
    "    print(chardet.detect(file.read()))"
   ]
  },
  {
   "cell_type": "markdown",
   "metadata": {},
   "source": [
    "### Access Metadata"
   ]
  },
  {
   "cell_type": "code",
   "execution_count": 4,
   "metadata": {},
   "outputs": [
    {
     "name": "stdout",
     "output_type": "stream",
     "text": [
      "<class 'pandas.core.frame.DataFrame'>\n",
      "RangeIndex: 425 entries, 0 to 424\n",
      "Data columns (total 21 columns):\n",
      " #   Column              Non-Null Count  Dtype  \n",
      "---  ------              --------------  -----  \n",
      " 0   site                425 non-null    int64  \n",
      " 1   STANAME             425 non-null    object \n",
      " 2   DRAIN_SQKM          424 non-null    float64\n",
      " 3   HUC02               425 non-null    object \n",
      " 4   lat                 425 non-null    float64\n",
      " 5   long                425 non-null    float64\n",
      " 6   STATE               398 non-null    object \n",
      " 7   HCDN.2009           70 non-null     object \n",
      " 8   in_crb              425 non-null    bool   \n",
      " 9   full_years_in_1921  425 non-null    int64  \n",
      " 10  full_years_in_1931  425 non-null    int64  \n",
      " 11  full_years_in_1941  425 non-null    int64  \n",
      " 12  full_years_in_1951  425 non-null    int64  \n",
      " 13  full_years_in_1961  425 non-null    int64  \n",
      " 14  full_years_in_1971  425 non-null    int64  \n",
      " 15  full_years_in_1981  425 non-null    int64  \n",
      " 16  full_years_in_1991  425 non-null    int64  \n",
      " 17  full_years_in_2001  425 non-null    int64  \n",
      " 18  full_years_in_2011  425 non-null    int64  \n",
      " 19  lat_cent            398 non-null    float64\n",
      " 20  long_cent           398 non-null    float64\n",
      "dtypes: bool(1), float64(5), int64(11), object(4)\n",
      "memory usage: 66.9+ KB\n"
     ]
    }
   ],
   "source": [
    "df_meta = pd.read_csv(file_path, encoding=\"iso-8859-1\")\n",
    "df_meta.info()"
   ]
  },
  {
   "cell_type": "code",
   "execution_count": 5,
   "metadata": {},
   "outputs": [
    {
     "data": {
      "text/html": [
       "<div>\n",
       "<style scoped>\n",
       "    .dataframe tbody tr th:only-of-type {\n",
       "        vertical-align: middle;\n",
       "    }\n",
       "\n",
       "    .dataframe tbody tr th {\n",
       "        vertical-align: top;\n",
       "    }\n",
       "\n",
       "    .dataframe thead th {\n",
       "        text-align: right;\n",
       "    }\n",
       "</style>\n",
       "<table border=\"1\" class=\"dataframe\">\n",
       "  <thead>\n",
       "    <tr style=\"text-align: right;\">\n",
       "      <th></th>\n",
       "      <th>site</th>\n",
       "      <th>DRAIN_SQKM</th>\n",
       "      <th>lat</th>\n",
       "      <th>long</th>\n",
       "      <th>full_years_in_1921</th>\n",
       "      <th>full_years_in_1931</th>\n",
       "      <th>full_years_in_1941</th>\n",
       "      <th>full_years_in_1951</th>\n",
       "      <th>full_years_in_1961</th>\n",
       "      <th>full_years_in_1971</th>\n",
       "      <th>full_years_in_1981</th>\n",
       "      <th>full_years_in_1991</th>\n",
       "      <th>full_years_in_2001</th>\n",
       "      <th>full_years_in_2011</th>\n",
       "      <th>lat_cent</th>\n",
       "      <th>long_cent</th>\n",
       "    </tr>\n",
       "  </thead>\n",
       "  <tbody>\n",
       "    <tr>\n",
       "      <th>count</th>\n",
       "      <td>4.250000e+02</td>\n",
       "      <td>424.000000</td>\n",
       "      <td>425.000000</td>\n",
       "      <td>425.000000</td>\n",
       "      <td>425.000000</td>\n",
       "      <td>425.000000</td>\n",
       "      <td>425.000000</td>\n",
       "      <td>425.000000</td>\n",
       "      <td>425.000000</td>\n",
       "      <td>425.000000</td>\n",
       "      <td>425.000000</td>\n",
       "      <td>425.000000</td>\n",
       "      <td>425.000000</td>\n",
       "      <td>425.000000</td>\n",
       "      <td>398.000000</td>\n",
       "      <td>398.000000</td>\n",
       "    </tr>\n",
       "    <tr>\n",
       "      <th>mean</th>\n",
       "      <td>9.224233e+06</td>\n",
       "      <td>9164.900000</td>\n",
       "      <td>38.191588</td>\n",
       "      <td>-109.480354</td>\n",
       "      <td>1.915294</td>\n",
       "      <td>3.148235</td>\n",
       "      <td>4.736471</td>\n",
       "      <td>5.912941</td>\n",
       "      <td>7.482353</td>\n",
       "      <td>8.922353</td>\n",
       "      <td>9.924706</td>\n",
       "      <td>9.955294</td>\n",
       "      <td>9.950588</td>\n",
       "      <td>9.910588</td>\n",
       "      <td>38.504691</td>\n",
       "      <td>-109.196872</td>\n",
       "    </tr>\n",
       "    <tr>\n",
       "      <th>std</th>\n",
       "      <td>1.566997e+06</td>\n",
       "      <td>24066.606045</td>\n",
       "      <td>3.380238</td>\n",
       "      <td>3.642791</td>\n",
       "      <td>3.515783</td>\n",
       "      <td>4.308192</td>\n",
       "      <td>4.726103</td>\n",
       "      <td>4.598959</td>\n",
       "      <td>3.806064</td>\n",
       "      <td>2.674318</td>\n",
       "      <td>0.362091</td>\n",
       "      <td>0.283802</td>\n",
       "      <td>0.291233</td>\n",
       "      <td>0.358858</td>\n",
       "      <td>3.161251</td>\n",
       "      <td>3.414229</td>\n",
       "    </tr>\n",
       "    <tr>\n",
       "      <th>min</th>\n",
       "      <td>6.038500e+06</td>\n",
       "      <td>2.200000</td>\n",
       "      <td>31.344540</td>\n",
       "      <td>-118.307647</td>\n",
       "      <td>0.000000</td>\n",
       "      <td>0.000000</td>\n",
       "      <td>0.000000</td>\n",
       "      <td>0.000000</td>\n",
       "      <td>0.000000</td>\n",
       "      <td>0.000000</td>\n",
       "      <td>8.000000</td>\n",
       "      <td>8.000000</td>\n",
       "      <td>8.000000</td>\n",
       "      <td>8.000000</td>\n",
       "      <td>32.902400</td>\n",
       "      <td>-117.335000</td>\n",
       "    </tr>\n",
       "    <tr>\n",
       "      <th>25%</th>\n",
       "      <td>8.361000e+06</td>\n",
       "      <td>352.775000</td>\n",
       "      <td>35.465592</td>\n",
       "      <td>-111.782720</td>\n",
       "      <td>0.000000</td>\n",
       "      <td>0.000000</td>\n",
       "      <td>0.000000</td>\n",
       "      <td>0.000000</td>\n",
       "      <td>5.000000</td>\n",
       "      <td>10.000000</td>\n",
       "      <td>10.000000</td>\n",
       "      <td>10.000000</td>\n",
       "      <td>10.000000</td>\n",
       "      <td>10.000000</td>\n",
       "      <td>36.361150</td>\n",
       "      <td>-111.440750</td>\n",
       "    </tr>\n",
       "    <tr>\n",
       "      <th>50%</th>\n",
       "      <td>9.306242e+06</td>\n",
       "      <td>1449.750000</td>\n",
       "      <td>38.306925</td>\n",
       "      <td>-109.362315</td>\n",
       "      <td>0.000000</td>\n",
       "      <td>0.000000</td>\n",
       "      <td>3.000000</td>\n",
       "      <td>10.000000</td>\n",
       "      <td>10.000000</td>\n",
       "      <td>10.000000</td>\n",
       "      <td>10.000000</td>\n",
       "      <td>10.000000</td>\n",
       "      <td>10.000000</td>\n",
       "      <td>10.000000</td>\n",
       "      <td>38.560200</td>\n",
       "      <td>-108.707500</td>\n",
       "    </tr>\n",
       "    <tr>\n",
       "      <th>75%</th>\n",
       "      <td>1.002010e+07</td>\n",
       "      <td>8018.075000</td>\n",
       "      <td>40.539982</td>\n",
       "      <td>-106.333918</td>\n",
       "      <td>2.000000</td>\n",
       "      <td>9.000000</td>\n",
       "      <td>10.000000</td>\n",
       "      <td>10.000000</td>\n",
       "      <td>10.000000</td>\n",
       "      <td>10.000000</td>\n",
       "      <td>10.000000</td>\n",
       "      <td>10.000000</td>\n",
       "      <td>10.000000</td>\n",
       "      <td>10.000000</td>\n",
       "      <td>40.663275</td>\n",
       "      <td>-106.223750</td>\n",
       "    </tr>\n",
       "    <tr>\n",
       "      <th>max</th>\n",
       "      <td>1.308150e+07</td>\n",
       "      <td>246700.000000</td>\n",
       "      <td>46.994665</td>\n",
       "      <td>-101.879628</td>\n",
       "      <td>10.000000</td>\n",
       "      <td>10.000000</td>\n",
       "      <td>10.000000</td>\n",
       "      <td>10.000000</td>\n",
       "      <td>10.000000</td>\n",
       "      <td>10.000000</td>\n",
       "      <td>10.000000</td>\n",
       "      <td>10.000000</td>\n",
       "      <td>10.000000</td>\n",
       "      <td>10.000000</td>\n",
       "      <td>45.519000</td>\n",
       "      <td>-103.858000</td>\n",
       "    </tr>\n",
       "  </tbody>\n",
       "</table>\n",
       "</div>"
      ],
      "text/plain": [
       "               site     DRAIN_SQKM         lat        long  \\\n",
       "count  4.250000e+02     424.000000  425.000000  425.000000   \n",
       "mean   9.224233e+06    9164.900000   38.191588 -109.480354   \n",
       "std    1.566997e+06   24066.606045    3.380238    3.642791   \n",
       "min    6.038500e+06       2.200000   31.344540 -118.307647   \n",
       "25%    8.361000e+06     352.775000   35.465592 -111.782720   \n",
       "50%    9.306242e+06    1449.750000   38.306925 -109.362315   \n",
       "75%    1.002010e+07    8018.075000   40.539982 -106.333918   \n",
       "max    1.308150e+07  246700.000000   46.994665 -101.879628   \n",
       "\n",
       "       full_years_in_1921  full_years_in_1931  full_years_in_1941  \\\n",
       "count          425.000000          425.000000          425.000000   \n",
       "mean             1.915294            3.148235            4.736471   \n",
       "std              3.515783            4.308192            4.726103   \n",
       "min              0.000000            0.000000            0.000000   \n",
       "25%              0.000000            0.000000            0.000000   \n",
       "50%              0.000000            0.000000            3.000000   \n",
       "75%              2.000000            9.000000           10.000000   \n",
       "max             10.000000           10.000000           10.000000   \n",
       "\n",
       "       full_years_in_1951  full_years_in_1961  full_years_in_1971  \\\n",
       "count          425.000000          425.000000          425.000000   \n",
       "mean             5.912941            7.482353            8.922353   \n",
       "std              4.598959            3.806064            2.674318   \n",
       "min              0.000000            0.000000            0.000000   \n",
       "25%              0.000000            5.000000           10.000000   \n",
       "50%             10.000000           10.000000           10.000000   \n",
       "75%             10.000000           10.000000           10.000000   \n",
       "max             10.000000           10.000000           10.000000   \n",
       "\n",
       "       full_years_in_1981  full_years_in_1991  full_years_in_2001  \\\n",
       "count          425.000000          425.000000          425.000000   \n",
       "mean             9.924706            9.955294            9.950588   \n",
       "std              0.362091            0.283802            0.291233   \n",
       "min              8.000000            8.000000            8.000000   \n",
       "25%             10.000000           10.000000           10.000000   \n",
       "50%             10.000000           10.000000           10.000000   \n",
       "75%             10.000000           10.000000           10.000000   \n",
       "max             10.000000           10.000000           10.000000   \n",
       "\n",
       "       full_years_in_2011    lat_cent   long_cent  \n",
       "count          425.000000  398.000000  398.000000  \n",
       "mean             9.910588   38.504691 -109.196872  \n",
       "std              0.358858    3.161251    3.414229  \n",
       "min              8.000000   32.902400 -117.335000  \n",
       "25%             10.000000   36.361150 -111.440750  \n",
       "50%             10.000000   38.560200 -108.707500  \n",
       "75%             10.000000   40.663275 -106.223750  \n",
       "max             10.000000   45.519000 -103.858000  "
      ]
     },
     "execution_count": 5,
     "metadata": {},
     "output_type": "execute_result"
    }
   ],
   "source": [
    "df_meta.describe()"
   ]
  },
  {
   "cell_type": "code",
   "execution_count": 6,
   "metadata": {},
   "outputs": [
    {
     "data": {
      "text/html": [
       "<div>\n",
       "<style scoped>\n",
       "    .dataframe tbody tr th:only-of-type {\n",
       "        vertical-align: middle;\n",
       "    }\n",
       "\n",
       "    .dataframe tbody tr th {\n",
       "        vertical-align: top;\n",
       "    }\n",
       "\n",
       "    .dataframe thead th {\n",
       "        text-align: right;\n",
       "    }\n",
       "</style>\n",
       "<table border=\"1\" class=\"dataframe\">\n",
       "  <thead>\n",
       "    <tr style=\"text-align: right;\">\n",
       "      <th></th>\n",
       "      <th>site</th>\n",
       "      <th>STANAME</th>\n",
       "      <th>DRAIN_SQKM</th>\n",
       "      <th>HUC02</th>\n",
       "      <th>lat</th>\n",
       "      <th>long</th>\n",
       "      <th>STATE</th>\n",
       "      <th>HCDN.2009</th>\n",
       "      <th>in_crb</th>\n",
       "      <th>full_years_in_1921</th>\n",
       "      <th>...</th>\n",
       "      <th>full_years_in_1941</th>\n",
       "      <th>full_years_in_1951</th>\n",
       "      <th>full_years_in_1961</th>\n",
       "      <th>full_years_in_1971</th>\n",
       "      <th>full_years_in_1981</th>\n",
       "      <th>full_years_in_1991</th>\n",
       "      <th>full_years_in_2001</th>\n",
       "      <th>full_years_in_2011</th>\n",
       "      <th>lat_cent</th>\n",
       "      <th>long_cent</th>\n",
       "    </tr>\n",
       "  </thead>\n",
       "  <tbody>\n",
       "    <tr>\n",
       "      <th>0</th>\n",
       "      <td>6038500</td>\n",
       "      <td>Madison River bl Hebgen Lake nr Grayling MT</td>\n",
       "      <td>2412.0</td>\n",
       "      <td>10U</td>\n",
       "      <td>44.866593</td>\n",
       "      <td>-111.338288</td>\n",
       "      <td>MT</td>\n",
       "      <td>NaN</td>\n",
       "      <td>False</td>\n",
       "      <td>0</td>\n",
       "      <td>...</td>\n",
       "      <td>10</td>\n",
       "      <td>10</td>\n",
       "      <td>10</td>\n",
       "      <td>10</td>\n",
       "      <td>10</td>\n",
       "      <td>10</td>\n",
       "      <td>10</td>\n",
       "      <td>10</td>\n",
       "      <td>44.6619</td>\n",
       "      <td>-110.950</td>\n",
       "    </tr>\n",
       "    <tr>\n",
       "      <th>1</th>\n",
       "      <td>6054500</td>\n",
       "      <td>Missouri River at Toston MT</td>\n",
       "      <td>38074.7</td>\n",
       "      <td>10U</td>\n",
       "      <td>46.146040</td>\n",
       "      <td>-111.420520</td>\n",
       "      <td>MT</td>\n",
       "      <td>NaN</td>\n",
       "      <td>False</td>\n",
       "      <td>0</td>\n",
       "      <td>...</td>\n",
       "      <td>8</td>\n",
       "      <td>10</td>\n",
       "      <td>10</td>\n",
       "      <td>10</td>\n",
       "      <td>10</td>\n",
       "      <td>10</td>\n",
       "      <td>10</td>\n",
       "      <td>10</td>\n",
       "      <td>45.3635</td>\n",
       "      <td>-112.159</td>\n",
       "    </tr>\n",
       "    <tr>\n",
       "      <th>2</th>\n",
       "      <td>6066500</td>\n",
       "      <td>Missouri River bl Holter Dam nr Wolf Cr MT</td>\n",
       "      <td>43985.2</td>\n",
       "      <td>10U</td>\n",
       "      <td>46.994665</td>\n",
       "      <td>-112.011111</td>\n",
       "      <td>MT</td>\n",
       "      <td>NaN</td>\n",
       "      <td>False</td>\n",
       "      <td>0</td>\n",
       "      <td>...</td>\n",
       "      <td>4</td>\n",
       "      <td>10</td>\n",
       "      <td>10</td>\n",
       "      <td>10</td>\n",
       "      <td>10</td>\n",
       "      <td>10</td>\n",
       "      <td>10</td>\n",
       "      <td>10</td>\n",
       "      <td>45.5190</td>\n",
       "      <td>-112.101</td>\n",
       "    </tr>\n",
       "    <tr>\n",
       "      <th>3</th>\n",
       "      <td>6191500</td>\n",
       "      <td>Yellowstone River at Corwin Springs MT</td>\n",
       "      <td>6783.6</td>\n",
       "      <td>10U</td>\n",
       "      <td>45.111880</td>\n",
       "      <td>-110.794381</td>\n",
       "      <td>MT</td>\n",
       "      <td>yes</td>\n",
       "      <td>False</td>\n",
       "      <td>10</td>\n",
       "      <td>...</td>\n",
       "      <td>10</td>\n",
       "      <td>10</td>\n",
       "      <td>10</td>\n",
       "      <td>10</td>\n",
       "      <td>10</td>\n",
       "      <td>10</td>\n",
       "      <td>10</td>\n",
       "      <td>10</td>\n",
       "      <td>44.6710</td>\n",
       "      <td>-110.289</td>\n",
       "    </tr>\n",
       "    <tr>\n",
       "      <th>4</th>\n",
       "      <td>6192500</td>\n",
       "      <td>Yellowstone River near Livingston MT</td>\n",
       "      <td>9209.0</td>\n",
       "      <td>10U</td>\n",
       "      <td>45.597158</td>\n",
       "      <td>-110.566039</td>\n",
       "      <td>MT</td>\n",
       "      <td>NaN</td>\n",
       "      <td>False</td>\n",
       "      <td>1</td>\n",
       "      <td>...</td>\n",
       "      <td>10</td>\n",
       "      <td>10</td>\n",
       "      <td>10</td>\n",
       "      <td>10</td>\n",
       "      <td>10</td>\n",
       "      <td>10</td>\n",
       "      <td>10</td>\n",
       "      <td>10</td>\n",
       "      <td>44.8437</td>\n",
       "      <td>-110.408</td>\n",
       "    </tr>\n",
       "  </tbody>\n",
       "</table>\n",
       "<p>5 rows × 21 columns</p>\n",
       "</div>"
      ],
      "text/plain": [
       "      site                                      STANAME  DRAIN_SQKM HUC02  \\\n",
       "0  6038500  Madison River bl Hebgen Lake nr Grayling MT      2412.0   10U   \n",
       "1  6054500                  Missouri River at Toston MT     38074.7   10U   \n",
       "2  6066500   Missouri River bl Holter Dam nr Wolf Cr MT     43985.2   10U   \n",
       "3  6191500       Yellowstone River at Corwin Springs MT      6783.6   10U   \n",
       "4  6192500         Yellowstone River near Livingston MT      9209.0   10U   \n",
       "\n",
       "         lat        long STATE HCDN.2009  in_crb  full_years_in_1921  ...  \\\n",
       "0  44.866593 -111.338288    MT       NaN   False                   0  ...   \n",
       "1  46.146040 -111.420520    MT       NaN   False                   0  ...   \n",
       "2  46.994665 -112.011111    MT       NaN   False                   0  ...   \n",
       "3  45.111880 -110.794381    MT       yes   False                  10  ...   \n",
       "4  45.597158 -110.566039    MT       NaN   False                   1  ...   \n",
       "\n",
       "   full_years_in_1941  full_years_in_1951  full_years_in_1961  \\\n",
       "0                  10                  10                  10   \n",
       "1                   8                  10                  10   \n",
       "2                   4                  10                  10   \n",
       "3                  10                  10                  10   \n",
       "4                  10                  10                  10   \n",
       "\n",
       "   full_years_in_1971  full_years_in_1981  full_years_in_1991  \\\n",
       "0                  10                  10                  10   \n",
       "1                  10                  10                  10   \n",
       "2                  10                  10                  10   \n",
       "3                  10                  10                  10   \n",
       "4                  10                  10                  10   \n",
       "\n",
       "   full_years_in_2001  full_years_in_2011  lat_cent  long_cent  \n",
       "0                  10                  10   44.6619   -110.950  \n",
       "1                  10                  10   45.3635   -112.159  \n",
       "2                  10                  10   45.5190   -112.101  \n",
       "3                  10                  10   44.6710   -110.289  \n",
       "4                  10                  10   44.8437   -110.408  \n",
       "\n",
       "[5 rows x 21 columns]"
      ]
     },
     "execution_count": 6,
     "metadata": {},
     "output_type": "execute_result"
    }
   ],
   "source": [
    "df_meta.head(5)"
   ]
  },
  {
   "cell_type": "markdown",
   "metadata": {},
   "source": [
    "### Filter Out Unregulated Gauges"
   ]
  },
  {
   "cell_type": "code",
   "execution_count": 7,
   "metadata": {},
   "outputs": [],
   "source": [
    "df_meta[\"site\"] = df_meta[\"site\"].astype(\"string\")"
   ]
  },
  {
   "cell_type": "code",
   "execution_count": 8,
   "metadata": {},
   "outputs": [
    {
     "name": "stdout",
     "output_type": "stream",
     "text": [
      "<class 'pandas.core.frame.DataFrame'>\n",
      "RangeIndex: 70 entries, 0 to 69\n",
      "Data columns (total 21 columns):\n",
      " #   Column              Non-Null Count  Dtype  \n",
      "---  ------              --------------  -----  \n",
      " 0   site                70 non-null     string \n",
      " 1   STANAME             70 non-null     object \n",
      " 2   DRAIN_SQKM          70 non-null     float64\n",
      " 3   HUC02               70 non-null     object \n",
      " 4   lat                 70 non-null     float64\n",
      " 5   long                70 non-null     float64\n",
      " 6   STATE               70 non-null     object \n",
      " 7   HCDN.2009           70 non-null     object \n",
      " 8   in_crb              70 non-null     bool   \n",
      " 9   full_years_in_1921  70 non-null     int64  \n",
      " 10  full_years_in_1931  70 non-null     int64  \n",
      " 11  full_years_in_1941  70 non-null     int64  \n",
      " 12  full_years_in_1951  70 non-null     int64  \n",
      " 13  full_years_in_1961  70 non-null     int64  \n",
      " 14  full_years_in_1971  70 non-null     int64  \n",
      " 15  full_years_in_1981  70 non-null     int64  \n",
      " 16  full_years_in_1991  70 non-null     int64  \n",
      " 17  full_years_in_2001  70 non-null     int64  \n",
      " 18  full_years_in_2011  70 non-null     int64  \n",
      " 19  lat_cent            70 non-null     float64\n",
      " 20  long_cent           70 non-null     float64\n",
      "dtypes: bool(1), float64(5), int64(10), object(4), string(1)\n",
      "memory usage: 11.1+ KB\n"
     ]
    }
   ],
   "source": [
    "df_meta = df_meta.loc[df_meta[\"HCDN.2009\"].notnull()].reset_index()\n",
    "df_meta = df_meta.drop([\"index\"], axis=1)\n",
    "df_meta.info()"
   ]
  },
  {
   "cell_type": "code",
   "execution_count": 9,
   "metadata": {},
   "outputs": [
    {
     "data": {
      "text/html": [
       "<div>\n",
       "<style scoped>\n",
       "    .dataframe tbody tr th:only-of-type {\n",
       "        vertical-align: middle;\n",
       "    }\n",
       "\n",
       "    .dataframe tbody tr th {\n",
       "        vertical-align: top;\n",
       "    }\n",
       "\n",
       "    .dataframe thead th {\n",
       "        text-align: right;\n",
       "    }\n",
       "</style>\n",
       "<table border=\"1\" class=\"dataframe\">\n",
       "  <thead>\n",
       "    <tr style=\"text-align: right;\">\n",
       "      <th></th>\n",
       "      <th>site</th>\n",
       "      <th>STANAME</th>\n",
       "      <th>DRAIN_SQKM</th>\n",
       "      <th>HUC02</th>\n",
       "      <th>lat</th>\n",
       "      <th>long</th>\n",
       "      <th>STATE</th>\n",
       "      <th>HCDN.2009</th>\n",
       "      <th>in_crb</th>\n",
       "      <th>full_years_in_1921</th>\n",
       "      <th>...</th>\n",
       "      <th>full_years_in_1941</th>\n",
       "      <th>full_years_in_1951</th>\n",
       "      <th>full_years_in_1961</th>\n",
       "      <th>full_years_in_1971</th>\n",
       "      <th>full_years_in_1981</th>\n",
       "      <th>full_years_in_1991</th>\n",
       "      <th>full_years_in_2001</th>\n",
       "      <th>full_years_in_2011</th>\n",
       "      <th>lat_cent</th>\n",
       "      <th>long_cent</th>\n",
       "    </tr>\n",
       "  </thead>\n",
       "  <tbody>\n",
       "    <tr>\n",
       "      <th>0</th>\n",
       "      <td>6191500</td>\n",
       "      <td>Yellowstone River at Corwin Springs MT</td>\n",
       "      <td>6783.6</td>\n",
       "      <td>10U</td>\n",
       "      <td>45.111880</td>\n",
       "      <td>-110.794381</td>\n",
       "      <td>MT</td>\n",
       "      <td>yes</td>\n",
       "      <td>False</td>\n",
       "      <td>10</td>\n",
       "      <td>...</td>\n",
       "      <td>10</td>\n",
       "      <td>10</td>\n",
       "      <td>10</td>\n",
       "      <td>10</td>\n",
       "      <td>10</td>\n",
       "      <td>10</td>\n",
       "      <td>10</td>\n",
       "      <td>10</td>\n",
       "      <td>44.6710</td>\n",
       "      <td>-110.289</td>\n",
       "    </tr>\n",
       "    <tr>\n",
       "      <th>1</th>\n",
       "      <td>6224000</td>\n",
       "      <td>BULL LAKE CREEK ABOVE BULL LAKE, WY</td>\n",
       "      <td>484.9</td>\n",
       "      <td>10U</td>\n",
       "      <td>43.176901</td>\n",
       "      <td>-109.202911</td>\n",
       "      <td>WY</td>\n",
       "      <td>yes</td>\n",
       "      <td>False</td>\n",
       "      <td>0</td>\n",
       "      <td>...</td>\n",
       "      <td>8</td>\n",
       "      <td>3</td>\n",
       "      <td>3</td>\n",
       "      <td>10</td>\n",
       "      <td>10</td>\n",
       "      <td>10</td>\n",
       "      <td>10</td>\n",
       "      <td>10</td>\n",
       "      <td>43.0858</td>\n",
       "      <td>-109.424</td>\n",
       "    </tr>\n",
       "    <tr>\n",
       "      <th>2</th>\n",
       "      <td>6280300</td>\n",
       "      <td>SOUTH FORK SHOSHONE RIVER NEAR VALLEY, WY</td>\n",
       "      <td>794.0</td>\n",
       "      <td>10U</td>\n",
       "      <td>44.208282</td>\n",
       "      <td>-109.554888</td>\n",
       "      <td>WY</td>\n",
       "      <td>yes</td>\n",
       "      <td>False</td>\n",
       "      <td>0</td>\n",
       "      <td>...</td>\n",
       "      <td>0</td>\n",
       "      <td>1</td>\n",
       "      <td>10</td>\n",
       "      <td>10</td>\n",
       "      <td>10</td>\n",
       "      <td>10</td>\n",
       "      <td>10</td>\n",
       "      <td>10</td>\n",
       "      <td>44.0252</td>\n",
       "      <td>-109.670</td>\n",
       "    </tr>\n",
       "    <tr>\n",
       "      <th>3</th>\n",
       "      <td>6309200</td>\n",
       "      <td>MIDDLE FORK POWDER RIVER NEAR BARNUM, WY</td>\n",
       "      <td>117.5</td>\n",
       "      <td>10U</td>\n",
       "      <td>43.577740</td>\n",
       "      <td>-107.138400</td>\n",
       "      <td>WY</td>\n",
       "      <td>yes</td>\n",
       "      <td>False</td>\n",
       "      <td>0</td>\n",
       "      <td>...</td>\n",
       "      <td>0</td>\n",
       "      <td>0</td>\n",
       "      <td>8</td>\n",
       "      <td>10</td>\n",
       "      <td>10</td>\n",
       "      <td>10</td>\n",
       "      <td>10</td>\n",
       "      <td>10</td>\n",
       "      <td>43.5428</td>\n",
       "      <td>-107.185</td>\n",
       "    </tr>\n",
       "    <tr>\n",
       "      <th>4</th>\n",
       "      <td>6614800</td>\n",
       "      <td>MICHIGAN RIVER NEAR CAMERON PASS, CO.</td>\n",
       "      <td>4.0</td>\n",
       "      <td>10L</td>\n",
       "      <td>40.496094</td>\n",
       "      <td>-105.865012</td>\n",
       "      <td>CO</td>\n",
       "      <td>yes</td>\n",
       "      <td>False</td>\n",
       "      <td>0</td>\n",
       "      <td>...</td>\n",
       "      <td>0</td>\n",
       "      <td>0</td>\n",
       "      <td>0</td>\n",
       "      <td>6</td>\n",
       "      <td>10</td>\n",
       "      <td>10</td>\n",
       "      <td>10</td>\n",
       "      <td>10</td>\n",
       "      <td>40.4855</td>\n",
       "      <td>-105.872</td>\n",
       "    </tr>\n",
       "  </tbody>\n",
       "</table>\n",
       "<p>5 rows × 21 columns</p>\n",
       "</div>"
      ],
      "text/plain": [
       "      site                                    STANAME  DRAIN_SQKM HUC02  \\\n",
       "0  6191500     Yellowstone River at Corwin Springs MT      6783.6   10U   \n",
       "1  6224000        BULL LAKE CREEK ABOVE BULL LAKE, WY       484.9   10U   \n",
       "2  6280300  SOUTH FORK SHOSHONE RIVER NEAR VALLEY, WY       794.0   10U   \n",
       "3  6309200   MIDDLE FORK POWDER RIVER NEAR BARNUM, WY       117.5   10U   \n",
       "4  6614800      MICHIGAN RIVER NEAR CAMERON PASS, CO.         4.0   10L   \n",
       "\n",
       "         lat        long STATE HCDN.2009  in_crb  full_years_in_1921  ...  \\\n",
       "0  45.111880 -110.794381    MT       yes   False                  10  ...   \n",
       "1  43.176901 -109.202911    WY       yes   False                   0  ...   \n",
       "2  44.208282 -109.554888    WY       yes   False                   0  ...   \n",
       "3  43.577740 -107.138400    WY       yes   False                   0  ...   \n",
       "4  40.496094 -105.865012    CO       yes   False                   0  ...   \n",
       "\n",
       "   full_years_in_1941  full_years_in_1951  full_years_in_1961  \\\n",
       "0                  10                  10                  10   \n",
       "1                   8                   3                   3   \n",
       "2                   0                   1                  10   \n",
       "3                   0                   0                   8   \n",
       "4                   0                   0                   0   \n",
       "\n",
       "   full_years_in_1971  full_years_in_1981  full_years_in_1991  \\\n",
       "0                  10                  10                  10   \n",
       "1                  10                  10                  10   \n",
       "2                  10                  10                  10   \n",
       "3                  10                  10                  10   \n",
       "4                   6                  10                  10   \n",
       "\n",
       "   full_years_in_2001  full_years_in_2011  lat_cent  long_cent  \n",
       "0                  10                  10   44.6710   -110.289  \n",
       "1                  10                  10   43.0858   -109.424  \n",
       "2                  10                  10   44.0252   -109.670  \n",
       "3                  10                  10   43.5428   -107.185  \n",
       "4                  10                  10   40.4855   -105.872  \n",
       "\n",
       "[5 rows x 21 columns]"
      ]
     },
     "execution_count": 9,
     "metadata": {},
     "output_type": "execute_result"
    }
   ],
   "source": [
    "df_meta.head(5)"
   ]
  },
  {
   "cell_type": "markdown",
   "metadata": {},
   "source": [
    "### Fix Guage Names"
   ]
  },
  {
   "cell_type": "code",
   "execution_count": 10,
   "metadata": {},
   "outputs": [
    {
     "data": {
      "text/plain": [
       "0     06191500\n",
       "1     06224000\n",
       "2     06280300\n",
       "3     06309200\n",
       "4     06614800\n",
       "        ...   \n",
       "65    11015000\n",
       "66    13011500\n",
       "67    13011900\n",
       "68    13018300\n",
       "69    13023000\n",
       "Name: site, Length: 70, dtype: string"
      ]
     },
     "execution_count": 10,
     "metadata": {},
     "output_type": "execute_result"
    }
   ],
   "source": [
    "for gauge in range(0, len(df_meta[\"site\"])):\n",
    "    if len(df_meta[\"site\"][gauge]) == 7:\n",
    "        df_meta[\"site\"][gauge] = \"0\" + df_meta[\"site\"][gauge]\n",
    "df_meta[\"site\"]"
   ]
  },
  {
   "cell_type": "markdown",
   "metadata": {},
   "source": [
    "### Create List of Unregulated Sites"
   ]
  },
  {
   "cell_type": "code",
   "execution_count": 11,
   "metadata": {
    "scrolled": true
   },
   "outputs": [
    {
     "data": {
      "text/plain": [
       "['06191500',\n",
       " '06224000',\n",
       " '06280300',\n",
       " '06309200',\n",
       " '06614800',\n",
       " '06622700',\n",
       " '06623800',\n",
       " '06632400',\n",
       " '06746095',\n",
       " '07083000',\n",
       " '07105945',\n",
       " '07207000',\n",
       " '07208500',\n",
       " '08267500',\n",
       " '08269000',\n",
       " '08271000',\n",
       " '08324000',\n",
       " '08377900',\n",
       " '08378500',\n",
       " '08380500',\n",
       " '09034900',\n",
       " '09035900',\n",
       " '09047700',\n",
       " '09065500',\n",
       " '09066000',\n",
       " '09066200',\n",
       " '09066300',\n",
       " '09081600',\n",
       " '09210500',\n",
       " '09223000',\n",
       " '09306242',\n",
       " '09312600',\n",
       " '09352900',\n",
       " '09378630',\n",
       " '09386900',\n",
       " '09404450',\n",
       " '09423350',\n",
       " '09430500',\n",
       " '09430600',\n",
       " '09447800',\n",
       " '09492400',\n",
       " '09494000',\n",
       " '09497800',\n",
       " '09497980',\n",
       " '09505350',\n",
       " '09505800',\n",
       " '09508300',\n",
       " '09510200',\n",
       " '09512280',\n",
       " '09513780',\n",
       " '10109001',\n",
       " '10172200',\n",
       " '10172700',\n",
       " '10172800',\n",
       " '10173450',\n",
       " '10205030',\n",
       " '10234500',\n",
       " '10242000',\n",
       " '10244950',\n",
       " '10249300',\n",
       " '10258000',\n",
       " '10258500',\n",
       " '10259000',\n",
       " '10259200',\n",
       " '10316500',\n",
       " '11015000',\n",
       " '13011500',\n",
       " '13011900',\n",
       " '13018300',\n",
       " '13023000']"
      ]
     },
     "execution_count": 11,
     "metadata": {},
     "output_type": "execute_result"
    }
   ],
   "source": [
    "unregulated = df_meta[\"site\"].tolist()\n",
    "unregulated"
   ]
  },
  {
   "cell_type": "markdown",
   "metadata": {},
   "source": [
    "### Export CSV of Sites and Corresponding Regions"
   ]
  },
  {
   "cell_type": "code",
   "execution_count": 12,
   "metadata": {},
   "outputs": [
    {
     "name": "stdout",
     "output_type": "stream",
     "text": [
      "<class 'pandas.core.frame.DataFrame'>\n",
      "RangeIndex: 70 entries, 0 to 69\n",
      "Data columns (total 3 columns):\n",
      " #   Column      Non-Null Count  Dtype  \n",
      "---  ------      --------------  -----  \n",
      " 0   site        70 non-null     string \n",
      " 1   DRAIN_SQKM  70 non-null     float64\n",
      " 2   HUC02       70 non-null     object \n",
      "dtypes: float64(1), object(1), string(1)\n",
      "memory usage: 1.8+ KB\n"
     ]
    }
   ],
   "source": [
    "df_regions = df_meta[[\"site\", \"DRAIN_SQKM\", \"HUC02\"]]\n",
    "df_regions.info()"
   ]
  },
  {
   "cell_type": "code",
   "execution_count": 13,
   "metadata": {},
   "outputs": [],
   "source": [
    "df_regions.to_csv(\"../Data/Streamflow_Drought_Data/Unregulated_Gauges_Regions.csv\", index=False)"
   ]
  },
  {
   "cell_type": "markdown",
   "metadata": {},
   "source": [
    "## Define Method for Cleaning Streamflow Guage Data"
   ]
  },
  {
   "cell_type": "markdown",
   "metadata": {},
   "source": [
    "### Open File"
   ]
  },
  {
   "cell_type": "code",
   "execution_count": 14,
   "metadata": {},
   "outputs": [],
   "source": [
    "file_path = \"../Data/Streamflow_Drought_Data/Streamflow_Percentiles/\" + unregulated[0] + \".csv\""
   ]
  },
  {
   "cell_type": "code",
   "execution_count": 15,
   "metadata": {},
   "outputs": [
    {
     "name": "stdout",
     "output_type": "stream",
     "text": [
      "<class 'pandas.core.frame.DataFrame'>\n",
      "DatetimeIndex: 14610 entries, 1980-04-01 to 2020-03-31\n",
      "Data columns (total 15 columns):\n",
      " #   Column                  Non-Null Count  Dtype  \n",
      "---  ------                  --------------  -----  \n",
      " 0   value                   14610 non-null  int64  \n",
      " 1   year                    14610 non-null  int64  \n",
      " 2   month                   14610 non-null  int64  \n",
      " 3   wy                      14610 non-null  int64  \n",
      " 4   jd                      14610 non-null  int64  \n",
      " 5   cy                      14610 non-null  int64  \n",
      " 6   mean_value              14604 non-null  float64\n",
      " 7   weibull_site            14604 non-null  float64\n",
      " 8   weibull_jd              14604 non-null  float64\n",
      " 9   weibull_jd_non_exc      14604 non-null  float64\n",
      " 10  weibull_jd_prev_zeros   14604 non-null  float64\n",
      " 11  weibull_jd_zero_length  14604 non-null  float64\n",
      " 12  cdpm_pct_site           14610 non-null  float64\n",
      " 13  cdpm_pct_jd             14610 non-null  float64\n",
      " 14  tlm_cdpm_20             14604 non-null  float64\n",
      "dtypes: float64(9), int64(6)\n",
      "memory usage: 1.8 MB\n"
     ]
    }
   ],
   "source": [
    "df_gauge = pd.read_csv(\n",
    "    file_path,\n",
    "    index_col = \"dt\", \n",
    "    parse_dates=True\n",
    ")\n",
    "df_gauge.info()"
   ]
  },
  {
   "cell_type": "code",
   "execution_count": 16,
   "metadata": {},
   "outputs": [
    {
     "data": {
      "text/html": [
       "<div>\n",
       "<style scoped>\n",
       "    .dataframe tbody tr th:only-of-type {\n",
       "        vertical-align: middle;\n",
       "    }\n",
       "\n",
       "    .dataframe tbody tr th {\n",
       "        vertical-align: top;\n",
       "    }\n",
       "\n",
       "    .dataframe thead th {\n",
       "        text-align: right;\n",
       "    }\n",
       "</style>\n",
       "<table border=\"1\" class=\"dataframe\">\n",
       "  <thead>\n",
       "    <tr style=\"text-align: right;\">\n",
       "      <th></th>\n",
       "      <th>value</th>\n",
       "      <th>year</th>\n",
       "      <th>month</th>\n",
       "      <th>wy</th>\n",
       "      <th>jd</th>\n",
       "      <th>cy</th>\n",
       "      <th>mean_value</th>\n",
       "      <th>weibull_site</th>\n",
       "      <th>weibull_jd</th>\n",
       "      <th>weibull_jd_non_exc</th>\n",
       "      <th>weibull_jd_prev_zeros</th>\n",
       "      <th>weibull_jd_zero_length</th>\n",
       "      <th>cdpm_pct_site</th>\n",
       "      <th>cdpm_pct_jd</th>\n",
       "      <th>tlm_cdpm_20</th>\n",
       "    </tr>\n",
       "  </thead>\n",
       "  <tbody>\n",
       "    <tr>\n",
       "      <th>count</th>\n",
       "      <td>14610.000000</td>\n",
       "      <td>14610.000000</td>\n",
       "      <td>14610.000000</td>\n",
       "      <td>14610.00000</td>\n",
       "      <td>14610.000000</td>\n",
       "      <td>14610.000000</td>\n",
       "      <td>14604.000000</td>\n",
       "      <td>14604.000000</td>\n",
       "      <td>14604.000000</td>\n",
       "      <td>14604.000000</td>\n",
       "      <td>14604.000000</td>\n",
       "      <td>14604.000000</td>\n",
       "      <td>1.461000e+04</td>\n",
       "      <td>14610.000000</td>\n",
       "      <td>14604.000000</td>\n",
       "    </tr>\n",
       "    <tr>\n",
       "      <th>mean</th>\n",
       "      <td>3158.097741</td>\n",
       "      <td>1999.748118</td>\n",
       "      <td>6.522930</td>\n",
       "      <td>2000.00000</td>\n",
       "      <td>183.125257</td>\n",
       "      <td>2000.501027</td>\n",
       "      <td>3159.023565</td>\n",
       "      <td>49.967939</td>\n",
       "      <td>49.958247</td>\n",
       "      <td>49.958247</td>\n",
       "      <td>49.958247</td>\n",
       "      <td>49.958247</td>\n",
       "      <td>9.999316e+01</td>\n",
       "      <td>97.556423</td>\n",
       "      <td>49.958247</td>\n",
       "    </tr>\n",
       "    <tr>\n",
       "      <th>std</th>\n",
       "      <td>3900.804815</td>\n",
       "      <td>11.551944</td>\n",
       "      <td>3.448821</td>\n",
       "      <td>11.55469</td>\n",
       "      <td>105.442251</td>\n",
       "      <td>11.543821</td>\n",
       "      <td>3846.381083</td>\n",
       "      <td>28.857027</td>\n",
       "      <td>28.140765</td>\n",
       "      <td>28.140765</td>\n",
       "      <td>28.140765</td>\n",
       "      <td>28.140765</td>\n",
       "      <td>6.153511e-12</td>\n",
       "      <td>0.173975</td>\n",
       "      <td>28.140765</td>\n",
       "    </tr>\n",
       "    <tr>\n",
       "      <th>min</th>\n",
       "      <td>380.000000</td>\n",
       "      <td>1980.000000</td>\n",
       "      <td>1.000000</td>\n",
       "      <td>1980.00000</td>\n",
       "      <td>1.000000</td>\n",
       "      <td>1981.000000</td>\n",
       "      <td>403.571400</td>\n",
       "      <td>0.006844</td>\n",
       "      <td>2.439024</td>\n",
       "      <td>2.439024</td>\n",
       "      <td>2.439024</td>\n",
       "      <td>2.439024</td>\n",
       "      <td>9.999316e+01</td>\n",
       "      <td>90.909091</td>\n",
       "      <td>2.439024</td>\n",
       "    </tr>\n",
       "    <tr>\n",
       "      <th>25%</th>\n",
       "      <td>961.000000</td>\n",
       "      <td>1990.000000</td>\n",
       "      <td>4.000000</td>\n",
       "      <td>1990.00000</td>\n",
       "      <td>92.000000</td>\n",
       "      <td>1991.000000</td>\n",
       "      <td>962.857100</td>\n",
       "      <td>24.988023</td>\n",
       "      <td>24.390244</td>\n",
       "      <td>24.390244</td>\n",
       "      <td>24.390244</td>\n",
       "      <td>24.390244</td>\n",
       "      <td>9.999316e+01</td>\n",
       "      <td>97.560976</td>\n",
       "      <td>24.390244</td>\n",
       "    </tr>\n",
       "    <tr>\n",
       "      <th>50%</th>\n",
       "      <td>1410.000000</td>\n",
       "      <td>2000.000000</td>\n",
       "      <td>7.000000</td>\n",
       "      <td>2000.00000</td>\n",
       "      <td>183.000000</td>\n",
       "      <td>2000.500000</td>\n",
       "      <td>1408.571400</td>\n",
       "      <td>49.962357</td>\n",
       "      <td>48.780488</td>\n",
       "      <td>48.780488</td>\n",
       "      <td>48.780488</td>\n",
       "      <td>48.780488</td>\n",
       "      <td>9.999316e+01</td>\n",
       "      <td>97.560976</td>\n",
       "      <td>48.780488</td>\n",
       "    </tr>\n",
       "    <tr>\n",
       "      <th>75%</th>\n",
       "      <td>3457.500000</td>\n",
       "      <td>2010.000000</td>\n",
       "      <td>10.000000</td>\n",
       "      <td>2010.00000</td>\n",
       "      <td>274.000000</td>\n",
       "      <td>2010.750000</td>\n",
       "      <td>3485.000000</td>\n",
       "      <td>74.965779</td>\n",
       "      <td>73.170732</td>\n",
       "      <td>73.170732</td>\n",
       "      <td>73.170732</td>\n",
       "      <td>73.170732</td>\n",
       "      <td>9.999316e+01</td>\n",
       "      <td>97.560976</td>\n",
       "      <td>73.170732</td>\n",
       "    </tr>\n",
       "    <tr>\n",
       "      <th>max</th>\n",
       "      <td>29900.000000</td>\n",
       "      <td>2020.000000</td>\n",
       "      <td>12.000000</td>\n",
       "      <td>2020.00000</td>\n",
       "      <td>366.000000</td>\n",
       "      <td>2020.000000</td>\n",
       "      <td>28457.142900</td>\n",
       "      <td>99.952091</td>\n",
       "      <td>97.560976</td>\n",
       "      <td>97.560976</td>\n",
       "      <td>97.560976</td>\n",
       "      <td>97.560976</td>\n",
       "      <td>9.999316e+01</td>\n",
       "      <td>97.560976</td>\n",
       "      <td>97.560976</td>\n",
       "    </tr>\n",
       "  </tbody>\n",
       "</table>\n",
       "</div>"
      ],
      "text/plain": [
       "              value          year         month           wy            jd  \\\n",
       "count  14610.000000  14610.000000  14610.000000  14610.00000  14610.000000   \n",
       "mean    3158.097741   1999.748118      6.522930   2000.00000    183.125257   \n",
       "std     3900.804815     11.551944      3.448821     11.55469    105.442251   \n",
       "min      380.000000   1980.000000      1.000000   1980.00000      1.000000   \n",
       "25%      961.000000   1990.000000      4.000000   1990.00000     92.000000   \n",
       "50%     1410.000000   2000.000000      7.000000   2000.00000    183.000000   \n",
       "75%     3457.500000   2010.000000     10.000000   2010.00000    274.000000   \n",
       "max    29900.000000   2020.000000     12.000000   2020.00000    366.000000   \n",
       "\n",
       "                 cy    mean_value  weibull_site    weibull_jd  \\\n",
       "count  14610.000000  14604.000000  14604.000000  14604.000000   \n",
       "mean    2000.501027   3159.023565     49.967939     49.958247   \n",
       "std       11.543821   3846.381083     28.857027     28.140765   \n",
       "min     1981.000000    403.571400      0.006844      2.439024   \n",
       "25%     1991.000000    962.857100     24.988023     24.390244   \n",
       "50%     2000.500000   1408.571400     49.962357     48.780488   \n",
       "75%     2010.750000   3485.000000     74.965779     73.170732   \n",
       "max     2020.000000  28457.142900     99.952091     97.560976   \n",
       "\n",
       "       weibull_jd_non_exc  weibull_jd_prev_zeros  weibull_jd_zero_length  \\\n",
       "count        14604.000000           14604.000000            14604.000000   \n",
       "mean            49.958247              49.958247               49.958247   \n",
       "std             28.140765              28.140765               28.140765   \n",
       "min              2.439024               2.439024                2.439024   \n",
       "25%             24.390244              24.390244               24.390244   \n",
       "50%             48.780488              48.780488               48.780488   \n",
       "75%             73.170732              73.170732               73.170732   \n",
       "max             97.560976              97.560976               97.560976   \n",
       "\n",
       "       cdpm_pct_site   cdpm_pct_jd   tlm_cdpm_20  \n",
       "count   1.461000e+04  14610.000000  14604.000000  \n",
       "mean    9.999316e+01     97.556423     49.958247  \n",
       "std     6.153511e-12      0.173975     28.140765  \n",
       "min     9.999316e+01     90.909091      2.439024  \n",
       "25%     9.999316e+01     97.560976     24.390244  \n",
       "50%     9.999316e+01     97.560976     48.780488  \n",
       "75%     9.999316e+01     97.560976     73.170732  \n",
       "max     9.999316e+01     97.560976     97.560976  "
      ]
     },
     "execution_count": 16,
     "metadata": {},
     "output_type": "execute_result"
    }
   ],
   "source": [
    "df_gauge.describe()"
   ]
  },
  {
   "cell_type": "code",
   "execution_count": 17,
   "metadata": {},
   "outputs": [
    {
     "data": {
      "text/html": [
       "<div>\n",
       "<style scoped>\n",
       "    .dataframe tbody tr th:only-of-type {\n",
       "        vertical-align: middle;\n",
       "    }\n",
       "\n",
       "    .dataframe tbody tr th {\n",
       "        vertical-align: top;\n",
       "    }\n",
       "\n",
       "    .dataframe thead th {\n",
       "        text-align: right;\n",
       "    }\n",
       "</style>\n",
       "<table border=\"1\" class=\"dataframe\">\n",
       "  <thead>\n",
       "    <tr style=\"text-align: right;\">\n",
       "      <th></th>\n",
       "      <th>value</th>\n",
       "      <th>year</th>\n",
       "      <th>month</th>\n",
       "      <th>wy</th>\n",
       "      <th>jd</th>\n",
       "      <th>cy</th>\n",
       "      <th>mean_value</th>\n",
       "      <th>weibull_site</th>\n",
       "      <th>weibull_jd</th>\n",
       "      <th>weibull_jd_non_exc</th>\n",
       "      <th>weibull_jd_prev_zeros</th>\n",
       "      <th>weibull_jd_zero_length</th>\n",
       "      <th>cdpm_pct_site</th>\n",
       "      <th>cdpm_pct_jd</th>\n",
       "      <th>tlm_cdpm_20</th>\n",
       "    </tr>\n",
       "    <tr>\n",
       "      <th>dt</th>\n",
       "      <th></th>\n",
       "      <th></th>\n",
       "      <th></th>\n",
       "      <th></th>\n",
       "      <th></th>\n",
       "      <th></th>\n",
       "      <th></th>\n",
       "      <th></th>\n",
       "      <th></th>\n",
       "      <th></th>\n",
       "      <th></th>\n",
       "      <th></th>\n",
       "      <th></th>\n",
       "      <th></th>\n",
       "      <th></th>\n",
       "    </tr>\n",
       "  </thead>\n",
       "  <tbody>\n",
       "    <tr>\n",
       "      <th>1980-04-01</th>\n",
       "      <td>748</td>\n",
       "      <td>1980</td>\n",
       "      <td>4</td>\n",
       "      <td>1980</td>\n",
       "      <td>92</td>\n",
       "      <td>1981</td>\n",
       "      <td>NaN</td>\n",
       "      <td>NaN</td>\n",
       "      <td>NaN</td>\n",
       "      <td>NaN</td>\n",
       "      <td>NaN</td>\n",
       "      <td>NaN</td>\n",
       "      <td>99.993156</td>\n",
       "      <td>97.560976</td>\n",
       "      <td>NaN</td>\n",
       "    </tr>\n",
       "    <tr>\n",
       "      <th>1980-04-02</th>\n",
       "      <td>823</td>\n",
       "      <td>1980</td>\n",
       "      <td>4</td>\n",
       "      <td>1980</td>\n",
       "      <td>93</td>\n",
       "      <td>1981</td>\n",
       "      <td>NaN</td>\n",
       "      <td>NaN</td>\n",
       "      <td>NaN</td>\n",
       "      <td>NaN</td>\n",
       "      <td>NaN</td>\n",
       "      <td>NaN</td>\n",
       "      <td>99.993156</td>\n",
       "      <td>97.560976</td>\n",
       "      <td>NaN</td>\n",
       "    </tr>\n",
       "    <tr>\n",
       "      <th>1980-04-03</th>\n",
       "      <td>802</td>\n",
       "      <td>1980</td>\n",
       "      <td>4</td>\n",
       "      <td>1980</td>\n",
       "      <td>94</td>\n",
       "      <td>1981</td>\n",
       "      <td>NaN</td>\n",
       "      <td>NaN</td>\n",
       "      <td>NaN</td>\n",
       "      <td>NaN</td>\n",
       "      <td>NaN</td>\n",
       "      <td>NaN</td>\n",
       "      <td>99.993156</td>\n",
       "      <td>97.560976</td>\n",
       "      <td>NaN</td>\n",
       "    </tr>\n",
       "    <tr>\n",
       "      <th>1980-04-04</th>\n",
       "      <td>830</td>\n",
       "      <td>1980</td>\n",
       "      <td>4</td>\n",
       "      <td>1980</td>\n",
       "      <td>95</td>\n",
       "      <td>1981</td>\n",
       "      <td>NaN</td>\n",
       "      <td>NaN</td>\n",
       "      <td>NaN</td>\n",
       "      <td>NaN</td>\n",
       "      <td>NaN</td>\n",
       "      <td>NaN</td>\n",
       "      <td>99.993156</td>\n",
       "      <td>97.560976</td>\n",
       "      <td>NaN</td>\n",
       "    </tr>\n",
       "    <tr>\n",
       "      <th>1980-04-05</th>\n",
       "      <td>830</td>\n",
       "      <td>1980</td>\n",
       "      <td>4</td>\n",
       "      <td>1980</td>\n",
       "      <td>96</td>\n",
       "      <td>1981</td>\n",
       "      <td>NaN</td>\n",
       "      <td>NaN</td>\n",
       "      <td>NaN</td>\n",
       "      <td>NaN</td>\n",
       "      <td>NaN</td>\n",
       "      <td>NaN</td>\n",
       "      <td>99.993156</td>\n",
       "      <td>97.560976</td>\n",
       "      <td>NaN</td>\n",
       "    </tr>\n",
       "  </tbody>\n",
       "</table>\n",
       "</div>"
      ],
      "text/plain": [
       "            value  year  month    wy  jd    cy  mean_value  weibull_site  \\\n",
       "dt                                                                         \n",
       "1980-04-01    748  1980      4  1980  92  1981         NaN           NaN   \n",
       "1980-04-02    823  1980      4  1980  93  1981         NaN           NaN   \n",
       "1980-04-03    802  1980      4  1980  94  1981         NaN           NaN   \n",
       "1980-04-04    830  1980      4  1980  95  1981         NaN           NaN   \n",
       "1980-04-05    830  1980      4  1980  96  1981         NaN           NaN   \n",
       "\n",
       "            weibull_jd  weibull_jd_non_exc  weibull_jd_prev_zeros  \\\n",
       "dt                                                                  \n",
       "1980-04-01         NaN                 NaN                    NaN   \n",
       "1980-04-02         NaN                 NaN                    NaN   \n",
       "1980-04-03         NaN                 NaN                    NaN   \n",
       "1980-04-04         NaN                 NaN                    NaN   \n",
       "1980-04-05         NaN                 NaN                    NaN   \n",
       "\n",
       "            weibull_jd_zero_length  cdpm_pct_site  cdpm_pct_jd  tlm_cdpm_20  \n",
       "dt                                                                           \n",
       "1980-04-01                     NaN      99.993156    97.560976          NaN  \n",
       "1980-04-02                     NaN      99.993156    97.560976          NaN  \n",
       "1980-04-03                     NaN      99.993156    97.560976          NaN  \n",
       "1980-04-04                     NaN      99.993156    97.560976          NaN  \n",
       "1980-04-05                     NaN      99.993156    97.560976          NaN  "
      ]
     },
     "execution_count": 17,
     "metadata": {},
     "output_type": "execute_result"
    }
   ],
   "source": [
    "df_gauge.head(5)"
   ]
  },
  {
   "cell_type": "markdown",
   "metadata": {},
   "source": [
    "### Remove Null Values"
   ]
  },
  {
   "cell_type": "code",
   "execution_count": 18,
   "metadata": {},
   "outputs": [
    {
     "name": "stdout",
     "output_type": "stream",
     "text": [
      "<class 'pandas.core.frame.DataFrame'>\n",
      "DatetimeIndex: 14604 entries, 1980-04-07 to 2020-03-31\n",
      "Data columns (total 15 columns):\n",
      " #   Column                  Non-Null Count  Dtype  \n",
      "---  ------                  --------------  -----  \n",
      " 0   value                   14604 non-null  int64  \n",
      " 1   year                    14604 non-null  int64  \n",
      " 2   month                   14604 non-null  int64  \n",
      " 3   wy                      14604 non-null  int64  \n",
      " 4   jd                      14604 non-null  int64  \n",
      " 5   cy                      14604 non-null  int64  \n",
      " 6   mean_value              14604 non-null  float64\n",
      " 7   weibull_site            14604 non-null  float64\n",
      " 8   weibull_jd              14604 non-null  float64\n",
      " 9   weibull_jd_non_exc      14604 non-null  float64\n",
      " 10  weibull_jd_prev_zeros   14604 non-null  float64\n",
      " 11  weibull_jd_zero_length  14604 non-null  float64\n",
      " 12  cdpm_pct_site           14604 non-null  float64\n",
      " 13  cdpm_pct_jd             14604 non-null  float64\n",
      " 14  tlm_cdpm_20             14604 non-null  float64\n",
      "dtypes: float64(9), int64(6)\n",
      "memory usage: 1.8 MB\n"
     ]
    }
   ],
   "source": [
    "df_gauge = df_gauge.loc[df_gauge[\"mean_value\"].notnull()]\n",
    "df_gauge.info()"
   ]
  },
  {
   "cell_type": "code",
   "execution_count": 19,
   "metadata": {},
   "outputs": [
    {
     "data": {
      "text/html": [
       "<div>\n",
       "<style scoped>\n",
       "    .dataframe tbody tr th:only-of-type {\n",
       "        vertical-align: middle;\n",
       "    }\n",
       "\n",
       "    .dataframe tbody tr th {\n",
       "        vertical-align: top;\n",
       "    }\n",
       "\n",
       "    .dataframe thead th {\n",
       "        text-align: right;\n",
       "    }\n",
       "</style>\n",
       "<table border=\"1\" class=\"dataframe\">\n",
       "  <thead>\n",
       "    <tr style=\"text-align: right;\">\n",
       "      <th></th>\n",
       "      <th>value</th>\n",
       "      <th>year</th>\n",
       "      <th>month</th>\n",
       "      <th>wy</th>\n",
       "      <th>jd</th>\n",
       "      <th>cy</th>\n",
       "      <th>mean_value</th>\n",
       "      <th>weibull_site</th>\n",
       "      <th>weibull_jd</th>\n",
       "      <th>weibull_jd_non_exc</th>\n",
       "      <th>weibull_jd_prev_zeros</th>\n",
       "      <th>weibull_jd_zero_length</th>\n",
       "      <th>cdpm_pct_site</th>\n",
       "      <th>cdpm_pct_jd</th>\n",
       "      <th>tlm_cdpm_20</th>\n",
       "    </tr>\n",
       "  </thead>\n",
       "  <tbody>\n",
       "    <tr>\n",
       "      <th>count</th>\n",
       "      <td>14604.000000</td>\n",
       "      <td>14604.000000</td>\n",
       "      <td>14604.000000</td>\n",
       "      <td>14604.000000</td>\n",
       "      <td>14604.000000</td>\n",
       "      <td>14604.000000</td>\n",
       "      <td>14604.000000</td>\n",
       "      <td>14604.000000</td>\n",
       "      <td>14604.000000</td>\n",
       "      <td>14604.000000</td>\n",
       "      <td>14604.000000</td>\n",
       "      <td>14604.000000</td>\n",
       "      <td>1.460400e+04</td>\n",
       "      <td>14604.000000</td>\n",
       "      <td>14604.000000</td>\n",
       "    </tr>\n",
       "    <tr>\n",
       "      <th>mean</th>\n",
       "      <td>3159.059847</td>\n",
       "      <td>1999.756231</td>\n",
       "      <td>6.523966</td>\n",
       "      <td>2000.008217</td>\n",
       "      <td>183.161668</td>\n",
       "      <td>2000.509039</td>\n",
       "      <td>3159.023565</td>\n",
       "      <td>49.967939</td>\n",
       "      <td>49.958247</td>\n",
       "      <td>49.958247</td>\n",
       "      <td>49.958247</td>\n",
       "      <td>49.958247</td>\n",
       "      <td>9.999316e+01</td>\n",
       "      <td>97.556421</td>\n",
       "      <td>49.958247</td>\n",
       "    </tr>\n",
       "    <tr>\n",
       "      <th>std</th>\n",
       "      <td>3901.317157</td>\n",
       "      <td>11.547378</td>\n",
       "      <td>3.449150</td>\n",
       "      <td>11.549948</td>\n",
       "      <td>105.448598</td>\n",
       "      <td>11.539421</td>\n",
       "      <td>3846.381083</td>\n",
       "      <td>28.857027</td>\n",
       "      <td>28.140765</td>\n",
       "      <td>28.140765</td>\n",
       "      <td>28.140765</td>\n",
       "      <td>28.140765</td>\n",
       "      <td>6.153511e-12</td>\n",
       "      <td>0.174010</td>\n",
       "      <td>28.140765</td>\n",
       "    </tr>\n",
       "    <tr>\n",
       "      <th>min</th>\n",
       "      <td>380.000000</td>\n",
       "      <td>1980.000000</td>\n",
       "      <td>1.000000</td>\n",
       "      <td>1980.000000</td>\n",
       "      <td>1.000000</td>\n",
       "      <td>1981.000000</td>\n",
       "      <td>403.571400</td>\n",
       "      <td>0.006844</td>\n",
       "      <td>2.439024</td>\n",
       "      <td>2.439024</td>\n",
       "      <td>2.439024</td>\n",
       "      <td>2.439024</td>\n",
       "      <td>9.999316e+01</td>\n",
       "      <td>90.909091</td>\n",
       "      <td>2.439024</td>\n",
       "    </tr>\n",
       "    <tr>\n",
       "      <th>25%</th>\n",
       "      <td>961.750000</td>\n",
       "      <td>1990.000000</td>\n",
       "      <td>4.000000</td>\n",
       "      <td>1990.000000</td>\n",
       "      <td>92.000000</td>\n",
       "      <td>1991.000000</td>\n",
       "      <td>962.857100</td>\n",
       "      <td>24.988023</td>\n",
       "      <td>24.390244</td>\n",
       "      <td>24.390244</td>\n",
       "      <td>24.390244</td>\n",
       "      <td>24.390244</td>\n",
       "      <td>9.999316e+01</td>\n",
       "      <td>97.560976</td>\n",
       "      <td>24.390244</td>\n",
       "    </tr>\n",
       "    <tr>\n",
       "      <th>50%</th>\n",
       "      <td>1410.000000</td>\n",
       "      <td>2000.000000</td>\n",
       "      <td>7.000000</td>\n",
       "      <td>2000.000000</td>\n",
       "      <td>183.000000</td>\n",
       "      <td>2001.000000</td>\n",
       "      <td>1408.571400</td>\n",
       "      <td>49.962357</td>\n",
       "      <td>48.780488</td>\n",
       "      <td>48.780488</td>\n",
       "      <td>48.780488</td>\n",
       "      <td>48.780488</td>\n",
       "      <td>9.999316e+01</td>\n",
       "      <td>97.560976</td>\n",
       "      <td>48.780488</td>\n",
       "    </tr>\n",
       "    <tr>\n",
       "      <th>75%</th>\n",
       "      <td>3460.000000</td>\n",
       "      <td>2010.000000</td>\n",
       "      <td>10.000000</td>\n",
       "      <td>2010.000000</td>\n",
       "      <td>274.000000</td>\n",
       "      <td>2011.000000</td>\n",
       "      <td>3485.000000</td>\n",
       "      <td>74.965779</td>\n",
       "      <td>73.170732</td>\n",
       "      <td>73.170732</td>\n",
       "      <td>73.170732</td>\n",
       "      <td>73.170732</td>\n",
       "      <td>9.999316e+01</td>\n",
       "      <td>97.560976</td>\n",
       "      <td>73.170732</td>\n",
       "    </tr>\n",
       "    <tr>\n",
       "      <th>max</th>\n",
       "      <td>29900.000000</td>\n",
       "      <td>2020.000000</td>\n",
       "      <td>12.000000</td>\n",
       "      <td>2020.000000</td>\n",
       "      <td>366.000000</td>\n",
       "      <td>2020.000000</td>\n",
       "      <td>28457.142900</td>\n",
       "      <td>99.952091</td>\n",
       "      <td>97.560976</td>\n",
       "      <td>97.560976</td>\n",
       "      <td>97.560976</td>\n",
       "      <td>97.560976</td>\n",
       "      <td>9.999316e+01</td>\n",
       "      <td>97.560976</td>\n",
       "      <td>97.560976</td>\n",
       "    </tr>\n",
       "  </tbody>\n",
       "</table>\n",
       "</div>"
      ],
      "text/plain": [
       "              value          year         month            wy            jd  \\\n",
       "count  14604.000000  14604.000000  14604.000000  14604.000000  14604.000000   \n",
       "mean    3159.059847   1999.756231      6.523966   2000.008217    183.161668   \n",
       "std     3901.317157     11.547378      3.449150     11.549948    105.448598   \n",
       "min      380.000000   1980.000000      1.000000   1980.000000      1.000000   \n",
       "25%      961.750000   1990.000000      4.000000   1990.000000     92.000000   \n",
       "50%     1410.000000   2000.000000      7.000000   2000.000000    183.000000   \n",
       "75%     3460.000000   2010.000000     10.000000   2010.000000    274.000000   \n",
       "max    29900.000000   2020.000000     12.000000   2020.000000    366.000000   \n",
       "\n",
       "                 cy    mean_value  weibull_site    weibull_jd  \\\n",
       "count  14604.000000  14604.000000  14604.000000  14604.000000   \n",
       "mean    2000.509039   3159.023565     49.967939     49.958247   \n",
       "std       11.539421   3846.381083     28.857027     28.140765   \n",
       "min     1981.000000    403.571400      0.006844      2.439024   \n",
       "25%     1991.000000    962.857100     24.988023     24.390244   \n",
       "50%     2001.000000   1408.571400     49.962357     48.780488   \n",
       "75%     2011.000000   3485.000000     74.965779     73.170732   \n",
       "max     2020.000000  28457.142900     99.952091     97.560976   \n",
       "\n",
       "       weibull_jd_non_exc  weibull_jd_prev_zeros  weibull_jd_zero_length  \\\n",
       "count        14604.000000           14604.000000            14604.000000   \n",
       "mean            49.958247              49.958247               49.958247   \n",
       "std             28.140765              28.140765               28.140765   \n",
       "min              2.439024               2.439024                2.439024   \n",
       "25%             24.390244              24.390244               24.390244   \n",
       "50%             48.780488              48.780488               48.780488   \n",
       "75%             73.170732              73.170732               73.170732   \n",
       "max             97.560976              97.560976               97.560976   \n",
       "\n",
       "       cdpm_pct_site   cdpm_pct_jd   tlm_cdpm_20  \n",
       "count   1.460400e+04  14604.000000  14604.000000  \n",
       "mean    9.999316e+01     97.556421     49.958247  \n",
       "std     6.153511e-12      0.174010     28.140765  \n",
       "min     9.999316e+01     90.909091      2.439024  \n",
       "25%     9.999316e+01     97.560976     24.390244  \n",
       "50%     9.999316e+01     97.560976     48.780488  \n",
       "75%     9.999316e+01     97.560976     73.170732  \n",
       "max     9.999316e+01     97.560976     97.560976  "
      ]
     },
     "execution_count": 19,
     "metadata": {},
     "output_type": "execute_result"
    }
   ],
   "source": [
    "df_gauge.describe()"
   ]
  },
  {
   "cell_type": "code",
   "execution_count": 20,
   "metadata": {},
   "outputs": [
    {
     "data": {
      "text/html": [
       "<div>\n",
       "<style scoped>\n",
       "    .dataframe tbody tr th:only-of-type {\n",
       "        vertical-align: middle;\n",
       "    }\n",
       "\n",
       "    .dataframe tbody tr th {\n",
       "        vertical-align: top;\n",
       "    }\n",
       "\n",
       "    .dataframe thead th {\n",
       "        text-align: right;\n",
       "    }\n",
       "</style>\n",
       "<table border=\"1\" class=\"dataframe\">\n",
       "  <thead>\n",
       "    <tr style=\"text-align: right;\">\n",
       "      <th></th>\n",
       "      <th>value</th>\n",
       "      <th>year</th>\n",
       "      <th>month</th>\n",
       "      <th>wy</th>\n",
       "      <th>jd</th>\n",
       "      <th>cy</th>\n",
       "      <th>mean_value</th>\n",
       "      <th>weibull_site</th>\n",
       "      <th>weibull_jd</th>\n",
       "      <th>weibull_jd_non_exc</th>\n",
       "      <th>weibull_jd_prev_zeros</th>\n",
       "      <th>weibull_jd_zero_length</th>\n",
       "      <th>cdpm_pct_site</th>\n",
       "      <th>cdpm_pct_jd</th>\n",
       "      <th>tlm_cdpm_20</th>\n",
       "    </tr>\n",
       "    <tr>\n",
       "      <th>dt</th>\n",
       "      <th></th>\n",
       "      <th></th>\n",
       "      <th></th>\n",
       "      <th></th>\n",
       "      <th></th>\n",
       "      <th></th>\n",
       "      <th></th>\n",
       "      <th></th>\n",
       "      <th></th>\n",
       "      <th></th>\n",
       "      <th></th>\n",
       "      <th></th>\n",
       "      <th></th>\n",
       "      <th></th>\n",
       "      <th></th>\n",
       "    </tr>\n",
       "  </thead>\n",
       "  <tbody>\n",
       "    <tr>\n",
       "      <th>1980-04-07</th>\n",
       "      <td>865</td>\n",
       "      <td>1980</td>\n",
       "      <td>4</td>\n",
       "      <td>1980</td>\n",
       "      <td>98</td>\n",
       "      <td>1981</td>\n",
       "      <td>823.2857</td>\n",
       "      <td>14.523304</td>\n",
       "      <td>2.439024</td>\n",
       "      <td>2.439024</td>\n",
       "      <td>2.439024</td>\n",
       "      <td>2.439024</td>\n",
       "      <td>99.993156</td>\n",
       "      <td>97.560976</td>\n",
       "      <td>2.439024</td>\n",
       "    </tr>\n",
       "    <tr>\n",
       "      <th>1980-04-08</th>\n",
       "      <td>816</td>\n",
       "      <td>1980</td>\n",
       "      <td>4</td>\n",
       "      <td>1980</td>\n",
       "      <td>99</td>\n",
       "      <td>1981</td>\n",
       "      <td>833.0000</td>\n",
       "      <td>15.310383</td>\n",
       "      <td>2.439024</td>\n",
       "      <td>2.439024</td>\n",
       "      <td>2.439024</td>\n",
       "      <td>2.439024</td>\n",
       "      <td>99.993156</td>\n",
       "      <td>97.560976</td>\n",
       "      <td>2.439024</td>\n",
       "    </tr>\n",
       "    <tr>\n",
       "      <th>1980-04-09</th>\n",
       "      <td>872</td>\n",
       "      <td>1980</td>\n",
       "      <td>4</td>\n",
       "      <td>1980</td>\n",
       "      <td>100</td>\n",
       "      <td>1981</td>\n",
       "      <td>840.0000</td>\n",
       "      <td>15.940045</td>\n",
       "      <td>2.439024</td>\n",
       "      <td>2.439024</td>\n",
       "      <td>2.439024</td>\n",
       "      <td>2.439024</td>\n",
       "      <td>99.993156</td>\n",
       "      <td>97.560976</td>\n",
       "      <td>2.439024</td>\n",
       "    </tr>\n",
       "    <tr>\n",
       "      <th>1980-04-10</th>\n",
       "      <td>872</td>\n",
       "      <td>1980</td>\n",
       "      <td>4</td>\n",
       "      <td>1980</td>\n",
       "      <td>101</td>\n",
       "      <td>1981</td>\n",
       "      <td>850.0000</td>\n",
       "      <td>16.713435</td>\n",
       "      <td>4.878049</td>\n",
       "      <td>4.878049</td>\n",
       "      <td>4.878049</td>\n",
       "      <td>4.878049</td>\n",
       "      <td>99.993156</td>\n",
       "      <td>97.560976</td>\n",
       "      <td>4.878049</td>\n",
       "    </tr>\n",
       "    <tr>\n",
       "      <th>1980-04-11</th>\n",
       "      <td>837</td>\n",
       "      <td>1980</td>\n",
       "      <td>4</td>\n",
       "      <td>1980</td>\n",
       "      <td>102</td>\n",
       "      <td>1981</td>\n",
       "      <td>851.0000</td>\n",
       "      <td>16.781877</td>\n",
       "      <td>4.878049</td>\n",
       "      <td>4.878049</td>\n",
       "      <td>4.878049</td>\n",
       "      <td>4.878049</td>\n",
       "      <td>99.993156</td>\n",
       "      <td>97.560976</td>\n",
       "      <td>4.878049</td>\n",
       "    </tr>\n",
       "  </tbody>\n",
       "</table>\n",
       "</div>"
      ],
      "text/plain": [
       "            value  year  month    wy   jd    cy  mean_value  weibull_site  \\\n",
       "dt                                                                          \n",
       "1980-04-07    865  1980      4  1980   98  1981    823.2857     14.523304   \n",
       "1980-04-08    816  1980      4  1980   99  1981    833.0000     15.310383   \n",
       "1980-04-09    872  1980      4  1980  100  1981    840.0000     15.940045   \n",
       "1980-04-10    872  1980      4  1980  101  1981    850.0000     16.713435   \n",
       "1980-04-11    837  1980      4  1980  102  1981    851.0000     16.781877   \n",
       "\n",
       "            weibull_jd  weibull_jd_non_exc  weibull_jd_prev_zeros  \\\n",
       "dt                                                                  \n",
       "1980-04-07    2.439024            2.439024               2.439024   \n",
       "1980-04-08    2.439024            2.439024               2.439024   \n",
       "1980-04-09    2.439024            2.439024               2.439024   \n",
       "1980-04-10    4.878049            4.878049               4.878049   \n",
       "1980-04-11    4.878049            4.878049               4.878049   \n",
       "\n",
       "            weibull_jd_zero_length  cdpm_pct_site  cdpm_pct_jd  tlm_cdpm_20  \n",
       "dt                                                                           \n",
       "1980-04-07                2.439024      99.993156    97.560976     2.439024  \n",
       "1980-04-08                2.439024      99.993156    97.560976     2.439024  \n",
       "1980-04-09                2.439024      99.993156    97.560976     2.439024  \n",
       "1980-04-10                4.878049      99.993156    97.560976     4.878049  \n",
       "1980-04-11                4.878049      99.993156    97.560976     4.878049  "
      ]
     },
     "execution_count": 20,
     "metadata": {},
     "output_type": "execute_result"
    }
   ],
   "source": [
    "df_gauge.head(5)"
   ]
  },
  {
   "cell_type": "markdown",
   "metadata": {},
   "source": [
    "### Drop Irrelevent Columns"
   ]
  },
  {
   "cell_type": "code",
   "execution_count": 21,
   "metadata": {},
   "outputs": [
    {
     "data": {
      "text/html": [
       "<div>\n",
       "<style scoped>\n",
       "    .dataframe tbody tr th:only-of-type {\n",
       "        vertical-align: middle;\n",
       "    }\n",
       "\n",
       "    .dataframe tbody tr th {\n",
       "        vertical-align: top;\n",
       "    }\n",
       "\n",
       "    .dataframe thead th {\n",
       "        text-align: right;\n",
       "    }\n",
       "</style>\n",
       "<table border=\"1\" class=\"dataframe\">\n",
       "  <thead>\n",
       "    <tr style=\"text-align: right;\">\n",
       "      <th></th>\n",
       "      <th>value</th>\n",
       "      <th>year</th>\n",
       "      <th>month</th>\n",
       "      <th>wy</th>\n",
       "      <th>jd</th>\n",
       "      <th>cy</th>\n",
       "      <th>mean_value</th>\n",
       "      <th>weibull_site</th>\n",
       "      <th>weibull_jd</th>\n",
       "      <th>weibull_jd_non_exc</th>\n",
       "      <th>weibull_jd_prev_zeros</th>\n",
       "      <th>weibull_jd_zero_length</th>\n",
       "      <th>cdpm_pct_site</th>\n",
       "      <th>cdpm_pct_jd</th>\n",
       "      <th>tlm_cdpm_20</th>\n",
       "    </tr>\n",
       "    <tr>\n",
       "      <th>dt</th>\n",
       "      <th></th>\n",
       "      <th></th>\n",
       "      <th></th>\n",
       "      <th></th>\n",
       "      <th></th>\n",
       "      <th></th>\n",
       "      <th></th>\n",
       "      <th></th>\n",
       "      <th></th>\n",
       "      <th></th>\n",
       "      <th></th>\n",
       "      <th></th>\n",
       "      <th></th>\n",
       "      <th></th>\n",
       "      <th></th>\n",
       "    </tr>\n",
       "  </thead>\n",
       "  <tbody>\n",
       "  </tbody>\n",
       "</table>\n",
       "</div>"
      ],
      "text/plain": [
       "Empty DataFrame\n",
       "Columns: [value, year, month, wy, jd, cy, mean_value, weibull_site, weibull_jd, weibull_jd_non_exc, weibull_jd_prev_zeros, weibull_jd_zero_length, cdpm_pct_site, cdpm_pct_jd, tlm_cdpm_20]\n",
       "Index: []"
      ]
     },
     "execution_count": 21,
     "metadata": {},
     "output_type": "execute_result"
    }
   ],
   "source": [
    "df_gauge.loc[df_gauge[\"weibull_jd_non_exc\"] != df_gauge[\"weibull_jd\"]]"
   ]
  },
  {
   "cell_type": "code",
   "execution_count": 22,
   "metadata": {},
   "outputs": [
    {
     "data": {
      "text/html": [
       "<div>\n",
       "<style scoped>\n",
       "    .dataframe tbody tr th:only-of-type {\n",
       "        vertical-align: middle;\n",
       "    }\n",
       "\n",
       "    .dataframe tbody tr th {\n",
       "        vertical-align: top;\n",
       "    }\n",
       "\n",
       "    .dataframe thead th {\n",
       "        text-align: right;\n",
       "    }\n",
       "</style>\n",
       "<table border=\"1\" class=\"dataframe\">\n",
       "  <thead>\n",
       "    <tr style=\"text-align: right;\">\n",
       "      <th></th>\n",
       "      <th>value</th>\n",
       "      <th>year</th>\n",
       "      <th>month</th>\n",
       "      <th>wy</th>\n",
       "      <th>jd</th>\n",
       "      <th>cy</th>\n",
       "      <th>mean_value</th>\n",
       "      <th>weibull_site</th>\n",
       "      <th>weibull_jd</th>\n",
       "      <th>weibull_jd_non_exc</th>\n",
       "      <th>weibull_jd_prev_zeros</th>\n",
       "      <th>weibull_jd_zero_length</th>\n",
       "      <th>cdpm_pct_site</th>\n",
       "      <th>cdpm_pct_jd</th>\n",
       "      <th>tlm_cdpm_20</th>\n",
       "    </tr>\n",
       "    <tr>\n",
       "      <th>dt</th>\n",
       "      <th></th>\n",
       "      <th></th>\n",
       "      <th></th>\n",
       "      <th></th>\n",
       "      <th></th>\n",
       "      <th></th>\n",
       "      <th></th>\n",
       "      <th></th>\n",
       "      <th></th>\n",
       "      <th></th>\n",
       "      <th></th>\n",
       "      <th></th>\n",
       "      <th></th>\n",
       "      <th></th>\n",
       "      <th></th>\n",
       "    </tr>\n",
       "  </thead>\n",
       "  <tbody>\n",
       "  </tbody>\n",
       "</table>\n",
       "</div>"
      ],
      "text/plain": [
       "Empty DataFrame\n",
       "Columns: [value, year, month, wy, jd, cy, mean_value, weibull_site, weibull_jd, weibull_jd_non_exc, weibull_jd_prev_zeros, weibull_jd_zero_length, cdpm_pct_site, cdpm_pct_jd, tlm_cdpm_20]\n",
       "Index: []"
      ]
     },
     "execution_count": 22,
     "metadata": {},
     "output_type": "execute_result"
    }
   ],
   "source": [
    "df_gauge.loc[df_gauge[\"weibull_jd_prev_zeros\"] != df_gauge[\"weibull_jd\"]]"
   ]
  },
  {
   "cell_type": "code",
   "execution_count": 23,
   "metadata": {},
   "outputs": [
    {
     "data": {
      "text/html": [
       "<div>\n",
       "<style scoped>\n",
       "    .dataframe tbody tr th:only-of-type {\n",
       "        vertical-align: middle;\n",
       "    }\n",
       "\n",
       "    .dataframe tbody tr th {\n",
       "        vertical-align: top;\n",
       "    }\n",
       "\n",
       "    .dataframe thead th {\n",
       "        text-align: right;\n",
       "    }\n",
       "</style>\n",
       "<table border=\"1\" class=\"dataframe\">\n",
       "  <thead>\n",
       "    <tr style=\"text-align: right;\">\n",
       "      <th></th>\n",
       "      <th>value</th>\n",
       "      <th>year</th>\n",
       "      <th>month</th>\n",
       "      <th>wy</th>\n",
       "      <th>jd</th>\n",
       "      <th>cy</th>\n",
       "      <th>mean_value</th>\n",
       "      <th>weibull_site</th>\n",
       "      <th>weibull_jd</th>\n",
       "      <th>weibull_jd_non_exc</th>\n",
       "      <th>weibull_jd_prev_zeros</th>\n",
       "      <th>weibull_jd_zero_length</th>\n",
       "      <th>cdpm_pct_site</th>\n",
       "      <th>cdpm_pct_jd</th>\n",
       "      <th>tlm_cdpm_20</th>\n",
       "    </tr>\n",
       "    <tr>\n",
       "      <th>dt</th>\n",
       "      <th></th>\n",
       "      <th></th>\n",
       "      <th></th>\n",
       "      <th></th>\n",
       "      <th></th>\n",
       "      <th></th>\n",
       "      <th></th>\n",
       "      <th></th>\n",
       "      <th></th>\n",
       "      <th></th>\n",
       "      <th></th>\n",
       "      <th></th>\n",
       "      <th></th>\n",
       "      <th></th>\n",
       "      <th></th>\n",
       "    </tr>\n",
       "  </thead>\n",
       "  <tbody>\n",
       "  </tbody>\n",
       "</table>\n",
       "</div>"
      ],
      "text/plain": [
       "Empty DataFrame\n",
       "Columns: [value, year, month, wy, jd, cy, mean_value, weibull_site, weibull_jd, weibull_jd_non_exc, weibull_jd_prev_zeros, weibull_jd_zero_length, cdpm_pct_site, cdpm_pct_jd, tlm_cdpm_20]\n",
       "Index: []"
      ]
     },
     "execution_count": 23,
     "metadata": {},
     "output_type": "execute_result"
    }
   ],
   "source": [
    "df_gauge.loc[df_gauge[\"weibull_jd_zero_length\"] != df_gauge[\"weibull_jd\"]]"
   ]
  },
  {
   "cell_type": "code",
   "execution_count": 24,
   "metadata": {},
   "outputs": [
    {
     "data": {
      "text/html": [
       "<div>\n",
       "<style scoped>\n",
       "    .dataframe tbody tr th:only-of-type {\n",
       "        vertical-align: middle;\n",
       "    }\n",
       "\n",
       "    .dataframe tbody tr th {\n",
       "        vertical-align: top;\n",
       "    }\n",
       "\n",
       "    .dataframe thead th {\n",
       "        text-align: right;\n",
       "    }\n",
       "</style>\n",
       "<table border=\"1\" class=\"dataframe\">\n",
       "  <thead>\n",
       "    <tr style=\"text-align: right;\">\n",
       "      <th></th>\n",
       "      <th>value</th>\n",
       "      <th>year</th>\n",
       "      <th>month</th>\n",
       "      <th>wy</th>\n",
       "      <th>jd</th>\n",
       "      <th>cy</th>\n",
       "      <th>mean_value</th>\n",
       "      <th>weibull_site</th>\n",
       "      <th>weibull_jd</th>\n",
       "      <th>weibull_jd_non_exc</th>\n",
       "      <th>weibull_jd_prev_zeros</th>\n",
       "      <th>weibull_jd_zero_length</th>\n",
       "      <th>cdpm_pct_site</th>\n",
       "      <th>cdpm_pct_jd</th>\n",
       "      <th>tlm_cdpm_20</th>\n",
       "    </tr>\n",
       "    <tr>\n",
       "      <th>dt</th>\n",
       "      <th></th>\n",
       "      <th></th>\n",
       "      <th></th>\n",
       "      <th></th>\n",
       "      <th></th>\n",
       "      <th></th>\n",
       "      <th></th>\n",
       "      <th></th>\n",
       "      <th></th>\n",
       "      <th></th>\n",
       "      <th></th>\n",
       "      <th></th>\n",
       "      <th></th>\n",
       "      <th></th>\n",
       "      <th></th>\n",
       "    </tr>\n",
       "  </thead>\n",
       "  <tbody>\n",
       "  </tbody>\n",
       "</table>\n",
       "</div>"
      ],
      "text/plain": [
       "Empty DataFrame\n",
       "Columns: [value, year, month, wy, jd, cy, mean_value, weibull_site, weibull_jd, weibull_jd_non_exc, weibull_jd_prev_zeros, weibull_jd_zero_length, cdpm_pct_site, cdpm_pct_jd, tlm_cdpm_20]\n",
       "Index: []"
      ]
     },
     "execution_count": 24,
     "metadata": {},
     "output_type": "execute_result"
    }
   ],
   "source": [
    "df_gauge.loc[df_gauge[\"tlm_cdpm_20\"] != df_gauge[\"weibull_jd\"]]"
   ]
  },
  {
   "cell_type": "markdown",
   "metadata": {},
   "source": [
    "Columns to drop:\n",
    "- \"year\", \"month\" = Already have date column, this data is irrelevent\n",
    "- \"wy\" = Water year does not help us\n",
    "- \"cy\" = Climate year does not help us\n",
    "- \"weibull_jd_non_exc\", \"weibull_jd_prev_zeros\", \"weibull_jd_zero_length\", \"tlm_cdpm_20\" = Hold exact same values as \"weibull_jd\"\n",
    "- \"cdpm_pct_site\", \"cdpm_pct_jd\" = Temporary files created during the weibull calculation processes"
   ]
  },
  {
   "cell_type": "code",
   "execution_count": 25,
   "metadata": {},
   "outputs": [
    {
     "name": "stdout",
     "output_type": "stream",
     "text": [
      "<class 'pandas.core.frame.DataFrame'>\n",
      "DatetimeIndex: 14604 entries, 1980-04-07 to 2020-03-31\n",
      "Data columns (total 5 columns):\n",
      " #   Column        Non-Null Count  Dtype  \n",
      "---  ------        --------------  -----  \n",
      " 0   value         14604 non-null  int64  \n",
      " 1   jd            14604 non-null  int64  \n",
      " 2   mean_value    14604 non-null  float64\n",
      " 3   weibull_site  14604 non-null  float64\n",
      " 4   weibull_jd    14604 non-null  float64\n",
      "dtypes: float64(3), int64(2)\n",
      "memory usage: 684.6 KB\n"
     ]
    }
   ],
   "source": [
    "df_gauge = df_gauge.drop(\n",
    "    [\"year\", \"month\", \"wy\", \"cy\", \"weibull_jd_non_exc\", \"weibull_jd_prev_zeros\", \n",
    "     \"weibull_jd_zero_length\", \"tlm_cdpm_20\", \"cdpm_pct_site\", \"cdpm_pct_jd\"],\n",
    "    axis=1\n",
    ")\n",
    "df_gauge.info()"
   ]
  },
  {
   "cell_type": "markdown",
   "metadata": {},
   "source": [
    "Now we are left with the following columns:\n",
    "- \"value\" = Stream discharge value for this day\n",
    "- \"jd\" = Julian date value\n",
    "- \"mean_value\" = 7-day rolling mean discharge\n",
    "- \"weibull_site\" = Long term site percentiles using weibull method\n",
    "- \"weibull_jd\" = Julian date percentiles using weibull method"
   ]
  },
  {
   "cell_type": "markdown",
   "metadata": {},
   "source": [
    "### Check for Variable Correlation"
   ]
  },
  {
   "cell_type": "code",
   "execution_count": 26,
   "metadata": {},
   "outputs": [
    {
     "data": {
      "image/png": "[encoded data removed]",
      "text/plain": [
       "<Figure size 720x720 with 25 Axes>"
      ]
     },
     "metadata": {
      "needs_background": "light"
     },
     "output_type": "display_data"
    }
   ],
   "source": [
    "scatter_matrix(df_gauge, figsize=(10,10))\n",
    "plt.rcParams.update({'font.size': 15})\n",
    "plt.show()"
   ]
  },
  {
   "cell_type": "code",
   "execution_count": 27,
   "metadata": {},
   "outputs": [
    {
     "data": {
      "image/png": "[encoded data removed]",
      "text/plain": [
       "<Figure size 720x720 with 2 Axes>"
      ]
     },
     "metadata": {
      "needs_background": "light"
     },
     "output_type": "display_data"
    }
   ],
   "source": [
    "corr_matrix = df_gauge.corr()\n",
    "\n",
    "f, ax = plt.subplots(figsize=(10, 10))\n",
    "ax = sns.heatmap(corr_matrix, annot=True)\n",
    "ax = plt.rcParams.update({'font.size': 15})\n",
    "plt.show()"
   ]
  },
  {
   "cell_type": "markdown",
   "metadata": {},
   "source": [
    "Although the \"value\" and \"mean_value\" columns show extremely high correlation, I believe that looking at the 7-day average discharge seperately from the daily discharge may be interesting, so will keep both within the dataset."
   ]
  },
  {
   "cell_type": "markdown",
   "metadata": {},
   "source": [
    "### Check for Outliers"
   ]
  },
  {
   "cell_type": "code",
   "execution_count": 28,
   "metadata": {
    "scrolled": true
   },
   "outputs": [
    {
     "data": {
      "image/png": "[encoded data removed]",
      "text/plain": [
       "<Figure size 432x288 with 1 Axes>"
      ]
     },
     "metadata": {
      "needs_background": "light"
     },
     "output_type": "display_data"
    },
    {
     "data": {
      "image/png": "[encoded data removed]",
      "text/plain": [
       "<Figure size 432x288 with 1 Axes>"
      ]
     },
     "metadata": {
      "needs_background": "light"
     },
     "output_type": "display_data"
    },
    {
     "data": {
      "image/png": "[encoded data removed]",
      "text/plain": [
       "<Figure size 432x288 with 1 Axes>"
      ]
     },
     "metadata": {
      "needs_background": "light"
     },
     "output_type": "display_data"
    },
    {
     "data": {
      "image/png": "[encoded data removed]",
      "text/plain": [
       "<Figure size 432x288 with 1 Axes>"
      ]
     },
     "metadata": {
      "needs_background": "light"
     },
     "output_type": "display_data"
    },
    {
     "data": {
      "image/png": "[encoded data removed]",
      "text/plain": [
       "<Figure size 432x288 with 1 Axes>"
      ]
     },
     "metadata": {
      "needs_background": "light"
     },
     "output_type": "display_data"
    }
   ],
   "source": [
    "for i in range(0, len(df_gauge.columns)):\n",
    "    df_gauge.iloc[:, i:i+1].boxplot()\n",
    "    plt.show()"
   ]
  },
  {
   "cell_type": "markdown",
   "metadata": {},
   "source": [
    "As expected given the environmental nature of this dataset, there are no extreme outliers, and even if there were they would likely be left in unless they were obviously created by human error."
   ]
  },
  {
   "cell_type": "markdown",
   "metadata": {},
   "source": [
    "## Clean All Unregulated Streamflow Guage Data Files"
   ]
  },
  {
   "cell_type": "markdown",
   "metadata": {},
   "source": [
    "Due to the shear number of streamflow guage data files, it will be assumed that the rest follow the same data structure/issues as this first file. The steps taken to clean this first file will be emulated for the remaining streamflow gauge datasets."
   ]
  },
  {
   "cell_type": "code",
   "execution_count": 29,
   "metadata": {},
   "outputs": [],
   "source": [
    "for gauge in unregulated:\n",
    "    file_path = \"../Data/Streamflow_Drought_Data/Streamflow_Percentiles/\" + gauge + \".csv\"\n",
    "    \n",
    "    # Read in file\n",
    "    df_gauge = pd.read_csv(\n",
    "        file_path,\n",
    "        index_col = \"dt\", \n",
    "        parse_dates=True\n",
    "    )\n",
    "    \n",
    "    # Remove null values\n",
    "    df_gauge = df_gauge.loc[df_gauge[\"mean_value\"].notnull()]\n",
    "    \n",
    "    # Drop irrelevent columns\n",
    "    df_gauge = df_gauge.drop(\n",
    "        [\"year\", \"month\", \"wy\", \"cy\", \"weibull_jd_non_exc\", \"weibull_jd_prev_zeros\", \n",
    "         \"weibull_jd_zero_length\", \"tlm_cdpm_20\", \"cdpm_pct_site\", \"cdpm_pct_jd\"],\n",
    "        axis=1\n",
    "    )\n",
    "    \n",
    "    # Write dataframe to csv\n",
    "    df_gauge.to_csv(\"../Data/Streamflow_Drought_Data/Streamflow_Percentiles/Clean_Unregulated_Guages/\" +\n",
    "                    gauge + \"_Clean.csv\")"
   ]
  },
  {
   "cell_type": "markdown",
   "metadata": {},
   "source": [
    "### Test Opening Cleaned File"
   ]
  },
  {
   "cell_type": "code",
   "execution_count": 30,
   "metadata": {},
   "outputs": [
    {
     "name": "stdout",
     "output_type": "stream",
     "text": [
      "<class 'pandas.core.frame.DataFrame'>\n",
      "DatetimeIndex: 14260 entries, 1980-04-07 to 2020-03-31\n",
      "Data columns (total 5 columns):\n",
      " #   Column        Non-Null Count  Dtype  \n",
      "---  ------        --------------  -----  \n",
      " 0   value         14260 non-null  float64\n",
      " 1   jd            14260 non-null  int64  \n",
      " 2   mean_value    14260 non-null  float64\n",
      " 3   weibull_site  14260 non-null  float64\n",
      " 4   weibull_jd    14260 non-null  float64\n",
      "dtypes: float64(4), int64(1)\n",
      "memory usage: 668.4 KB\n"
     ]
    }
   ],
   "source": [
    "file_path = \"../Data/Streamflow_Drought_Data/Streamflow_Percentiles/Clean_Unregulated_Guages/13011900_Clean.csv\"\n",
    "df_gauge = pd.read_csv(\n",
    "    file_path,\n",
    "    index_col = \"dt\", \n",
    "    parse_dates=True\n",
    ")\n",
    "df_gauge.info()"
   ]
  },
  {
   "cell_type": "code",
   "execution_count": 31,
   "metadata": {},
   "outputs": [
    {
     "data": {
      "text/html": [
       "<div>\n",
       "<style scoped>\n",
       "    .dataframe tbody tr th:only-of-type {\n",
       "        vertical-align: middle;\n",
       "    }\n",
       "\n",
       "    .dataframe tbody tr th {\n",
       "        vertical-align: top;\n",
       "    }\n",
       "\n",
       "    .dataframe thead th {\n",
       "        text-align: right;\n",
       "    }\n",
       "</style>\n",
       "<table border=\"1\" class=\"dataframe\">\n",
       "  <thead>\n",
       "    <tr style=\"text-align: right;\">\n",
       "      <th></th>\n",
       "      <th>value</th>\n",
       "      <th>jd</th>\n",
       "      <th>mean_value</th>\n",
       "      <th>weibull_site</th>\n",
       "      <th>weibull_jd</th>\n",
       "    </tr>\n",
       "  </thead>\n",
       "  <tbody>\n",
       "    <tr>\n",
       "      <th>count</th>\n",
       "      <td>14260.000000</td>\n",
       "      <td>14260.000000</td>\n",
       "      <td>14260.000000</td>\n",
       "      <td>14260.000000</td>\n",
       "      <td>14260.000000</td>\n",
       "    </tr>\n",
       "    <tr>\n",
       "      <th>mean</th>\n",
       "      <td>536.524965</td>\n",
       "      <td>183.321669</td>\n",
       "      <td>536.512994</td>\n",
       "      <td>48.769340</td>\n",
       "      <td>48.758812</td>\n",
       "    </tr>\n",
       "    <tr>\n",
       "      <th>std</th>\n",
       "      <td>783.735861</td>\n",
       "      <td>105.451417</td>\n",
       "      <td>769.007765</td>\n",
       "      <td>28.204528</td>\n",
       "      <td>27.499718</td>\n",
       "    </tr>\n",
       "    <tr>\n",
       "      <th>min</th>\n",
       "      <td>60.000000</td>\n",
       "      <td>1.000000</td>\n",
       "      <td>78.571400</td>\n",
       "      <td>0.006844</td>\n",
       "      <td>2.439024</td>\n",
       "    </tr>\n",
       "    <tr>\n",
       "      <th>25%</th>\n",
       "      <td>140.000000</td>\n",
       "      <td>92.000000</td>\n",
       "      <td>139.857100</td>\n",
       "      <td>24.378893</td>\n",
       "      <td>24.390244</td>\n",
       "    </tr>\n",
       "    <tr>\n",
       "      <th>50%</th>\n",
       "      <td>209.000000</td>\n",
       "      <td>183.000000</td>\n",
       "      <td>209.142900</td>\n",
       "      <td>48.792006</td>\n",
       "      <td>48.780488</td>\n",
       "    </tr>\n",
       "    <tr>\n",
       "      <th>75%</th>\n",
       "      <td>449.000000</td>\n",
       "      <td>275.000000</td>\n",
       "      <td>449.678550</td>\n",
       "      <td>73.199986</td>\n",
       "      <td>73.170732</td>\n",
       "    </tr>\n",
       "    <tr>\n",
       "      <th>max</th>\n",
       "      <td>5880.000000</td>\n",
       "      <td>366.000000</td>\n",
       "      <td>5685.714300</td>\n",
       "      <td>97.597700</td>\n",
       "      <td>97.560976</td>\n",
       "    </tr>\n",
       "  </tbody>\n",
       "</table>\n",
       "</div>"
      ],
      "text/plain": [
       "              value            jd    mean_value  weibull_site    weibull_jd\n",
       "count  14260.000000  14260.000000  14260.000000  14260.000000  14260.000000\n",
       "mean     536.524965    183.321669    536.512994     48.769340     48.758812\n",
       "std      783.735861    105.451417    769.007765     28.204528     27.499718\n",
       "min       60.000000      1.000000     78.571400      0.006844      2.439024\n",
       "25%      140.000000     92.000000    139.857100     24.378893     24.390244\n",
       "50%      209.000000    183.000000    209.142900     48.792006     48.780488\n",
       "75%      449.000000    275.000000    449.678550     73.199986     73.170732\n",
       "max     5880.000000    366.000000   5685.714300     97.597700     97.560976"
      ]
     },
     "execution_count": 31,
     "metadata": {},
     "output_type": "execute_result"
    }
   ],
   "source": [
    "df_gauge.describe()"
   ]
  },
  {
   "cell_type": "code",
   "execution_count": 32,
   "metadata": {
    "scrolled": true
   },
   "outputs": [
    {
     "data": {
      "text/html": [
       "<div>\n",
       "<style scoped>\n",
       "    .dataframe tbody tr th:only-of-type {\n",
       "        vertical-align: middle;\n",
       "    }\n",
       "\n",
       "    .dataframe tbody tr th {\n",
       "        vertical-align: top;\n",
       "    }\n",
       "\n",
       "    .dataframe thead th {\n",
       "        text-align: right;\n",
       "    }\n",
       "</style>\n",
       "<table border=\"1\" class=\"dataframe\">\n",
       "  <thead>\n",
       "    <tr style=\"text-align: right;\">\n",
       "      <th></th>\n",
       "      <th>value</th>\n",
       "      <th>jd</th>\n",
       "      <th>mean_value</th>\n",
       "      <th>weibull_site</th>\n",
       "      <th>weibull_jd</th>\n",
       "    </tr>\n",
       "    <tr>\n",
       "      <th>dt</th>\n",
       "      <th></th>\n",
       "      <th></th>\n",
       "      <th></th>\n",
       "      <th></th>\n",
       "      <th></th>\n",
       "    </tr>\n",
       "  </thead>\n",
       "  <tbody>\n",
       "    <tr>\n",
       "      <th>1980-04-07</th>\n",
       "      <td>108.0</td>\n",
       "      <td>98</td>\n",
       "      <td>113.5714</td>\n",
       "      <td>10.088290</td>\n",
       "      <td>4.878049</td>\n",
       "    </tr>\n",
       "    <tr>\n",
       "      <th>1980-04-08</th>\n",
       "      <td>103.0</td>\n",
       "      <td>99</td>\n",
       "      <td>112.2857</td>\n",
       "      <td>9.355965</td>\n",
       "      <td>4.878049</td>\n",
       "    </tr>\n",
       "    <tr>\n",
       "      <th>1980-04-09</th>\n",
       "      <td>114.0</td>\n",
       "      <td>100</td>\n",
       "      <td>112.1429</td>\n",
       "      <td>9.068510</td>\n",
       "      <td>4.878049</td>\n",
       "    </tr>\n",
       "    <tr>\n",
       "      <th>1980-04-10</th>\n",
       "      <td>112.0</td>\n",
       "      <td>101</td>\n",
       "      <td>111.7143</td>\n",
       "      <td>8.952159</td>\n",
       "      <td>4.878049</td>\n",
       "    </tr>\n",
       "    <tr>\n",
       "      <th>1980-04-11</th>\n",
       "      <td>105.0</td>\n",
       "      <td>102</td>\n",
       "      <td>109.7143</td>\n",
       "      <td>7.501198</td>\n",
       "      <td>4.878049</td>\n",
       "    </tr>\n",
       "  </tbody>\n",
       "</table>\n",
       "</div>"
      ],
      "text/plain": [
       "            value   jd  mean_value  weibull_site  weibull_jd\n",
       "dt                                                          \n",
       "1980-04-07  108.0   98    113.5714     10.088290    4.878049\n",
       "1980-04-08  103.0   99    112.2857      9.355965    4.878049\n",
       "1980-04-09  114.0  100    112.1429      9.068510    4.878049\n",
       "1980-04-10  112.0  101    111.7143      8.952159    4.878049\n",
       "1980-04-11  105.0  102    109.7143      7.501198    4.878049"
      ]
     },
     "execution_count": 32,
     "metadata": {},
     "output_type": "execute_result"
    }
   ],
   "source": [
    "df_gauge.head(5)"
   ]
  },
  {
   "cell_type": "markdown",
   "metadata": {},
   "source": [
    "## Cleaning AMO Dataset"
   ]
  },
  {
   "cell_type": "code",
   "execution_count": 33,
   "metadata": {},
   "outputs": [
    {
     "name": "stdout",
     "output_type": "stream",
     "text": [
      "<class 'pandas.core.frame.DataFrame'>\n",
      "DatetimeIndex: 864 entries, 1950-01-01 to 2021-12-01\n",
      "Data columns (total 1 columns):\n",
      " #   Column  Non-Null Count  Dtype  \n",
      "---  ------  --------------  -----  \n",
      " 0   value   864 non-null    float64\n",
      "dtypes: float64(1)\n",
      "memory usage: 13.5 KB\n"
     ]
    }
   ],
   "source": [
    "file_path = \"../Data/Teleconnection_Time_Series/AMO_1950_present_monthly.csv\"\n",
    "df_amo = pd.read_csv(\n",
    "    file_path,\n",
    "    index_col = \"Date\", \n",
    "    parse_dates=True\n",
    ")\n",
    "df_amo.info()"
   ]
  },
  {
   "cell_type": "code",
   "execution_count": 34,
   "metadata": {},
   "outputs": [
    {
     "data": {
      "text/html": [
       "<div>\n",
       "<style scoped>\n",
       "    .dataframe tbody tr th:only-of-type {\n",
       "        vertical-align: middle;\n",
       "    }\n",
       "\n",
       "    .dataframe tbody tr th {\n",
       "        vertical-align: top;\n",
       "    }\n",
       "\n",
       "    .dataframe thead th {\n",
       "        text-align: right;\n",
       "    }\n",
       "</style>\n",
       "<table border=\"1\" class=\"dataframe\">\n",
       "  <thead>\n",
       "    <tr style=\"text-align: right;\">\n",
       "      <th></th>\n",
       "      <th>value</th>\n",
       "    </tr>\n",
       "  </thead>\n",
       "  <tbody>\n",
       "    <tr>\n",
       "      <th>count</th>\n",
       "      <td>864.000000</td>\n",
       "    </tr>\n",
       "    <tr>\n",
       "      <th>mean</th>\n",
       "      <td>-0.351896</td>\n",
       "    </tr>\n",
       "    <tr>\n",
       "      <th>std</th>\n",
       "      <td>5.888811</td>\n",
       "    </tr>\n",
       "    <tr>\n",
       "      <th>min</th>\n",
       "      <td>-99.990000</td>\n",
       "    </tr>\n",
       "    <tr>\n",
       "      <th>25%</th>\n",
       "      <td>-0.163750</td>\n",
       "    </tr>\n",
       "    <tr>\n",
       "      <th>50%</th>\n",
       "      <td>-0.004500</td>\n",
       "    </tr>\n",
       "    <tr>\n",
       "      <th>75%</th>\n",
       "      <td>0.152000</td>\n",
       "    </tr>\n",
       "    <tr>\n",
       "      <th>max</th>\n",
       "      <td>0.513000</td>\n",
       "    </tr>\n",
       "  </tbody>\n",
       "</table>\n",
       "</div>"
      ],
      "text/plain": [
       "            value\n",
       "count  864.000000\n",
       "mean    -0.351896\n",
       "std      5.888811\n",
       "min    -99.990000\n",
       "25%     -0.163750\n",
       "50%     -0.004500\n",
       "75%      0.152000\n",
       "max      0.513000"
      ]
     },
     "execution_count": 34,
     "metadata": {},
     "output_type": "execute_result"
    }
   ],
   "source": [
    "df_amo.describe()"
   ]
  },
  {
   "cell_type": "code",
   "execution_count": 35,
   "metadata": {},
   "outputs": [
    {
     "data": {
      "text/html": [
       "<div>\n",
       "<style scoped>\n",
       "    .dataframe tbody tr th:only-of-type {\n",
       "        vertical-align: middle;\n",
       "    }\n",
       "\n",
       "    .dataframe tbody tr th {\n",
       "        vertical-align: top;\n",
       "    }\n",
       "\n",
       "    .dataframe thead th {\n",
       "        text-align: right;\n",
       "    }\n",
       "</style>\n",
       "<table border=\"1\" class=\"dataframe\">\n",
       "  <thead>\n",
       "    <tr style=\"text-align: right;\">\n",
       "      <th></th>\n",
       "      <th>value</th>\n",
       "    </tr>\n",
       "    <tr>\n",
       "      <th>Date</th>\n",
       "      <th></th>\n",
       "    </tr>\n",
       "  </thead>\n",
       "  <tbody>\n",
       "    <tr>\n",
       "      <th>1950-01-01</th>\n",
       "      <td>0.108</td>\n",
       "    </tr>\n",
       "    <tr>\n",
       "      <th>1950-02-01</th>\n",
       "      <td>-0.037</td>\n",
       "    </tr>\n",
       "    <tr>\n",
       "      <th>1950-03-01</th>\n",
       "      <td>-0.109</td>\n",
       "    </tr>\n",
       "    <tr>\n",
       "      <th>1950-04-01</th>\n",
       "      <td>-0.134</td>\n",
       "    </tr>\n",
       "    <tr>\n",
       "      <th>1950-05-01</th>\n",
       "      <td>-0.062</td>\n",
       "    </tr>\n",
       "  </tbody>\n",
       "</table>\n",
       "</div>"
      ],
      "text/plain": [
       "            value\n",
       "Date             \n",
       "1950-01-01  0.108\n",
       "1950-02-01 -0.037\n",
       "1950-03-01 -0.109\n",
       "1950-04-01 -0.134\n",
       "1950-05-01 -0.062"
      ]
     },
     "execution_count": 35,
     "metadata": {},
     "output_type": "execute_result"
    }
   ],
   "source": [
    "df_amo.head(5)"
   ]
  },
  {
   "cell_type": "markdown",
   "metadata": {},
   "source": [
    "Hmmm, that minimum value is suspicious, let's check if it's a placeholder for a null value!"
   ]
  },
  {
   "cell_type": "code",
   "execution_count": 36,
   "metadata": {},
   "outputs": [
    {
     "data": {
      "text/plain": [
       "DatetimeIndex(['2021-10-01', '2021-11-01', '2021-12-01'], dtype='datetime64[ns]', name='Date', freq=None)"
      ]
     },
     "execution_count": 36,
     "metadata": {},
     "output_type": "execute_result"
    }
   ],
   "source": [
    "df_amo[df_amo[\"value\"] == -99.990].index"
   ]
  },
  {
   "cell_type": "code",
   "execution_count": 37,
   "metadata": {},
   "outputs": [
    {
     "data": {
      "image/png": "[encoded data removed]",
      "text/plain": [
       "<Figure size 432x288 with 1 Axes>"
      ]
     },
     "metadata": {
      "needs_background": "light"
     },
     "output_type": "display_data"
    }
   ],
   "source": [
    "df_amo.iloc[:].boxplot()\n",
    "plt.show()"
   ]
  },
  {
   "cell_type": "code",
   "execution_count": 38,
   "metadata": {},
   "outputs": [
    {
     "data": {
      "text/html": [
       "<div>\n",
       "<style scoped>\n",
       "    .dataframe tbody tr th:only-of-type {\n",
       "        vertical-align: middle;\n",
       "    }\n",
       "\n",
       "    .dataframe tbody tr th {\n",
       "        vertical-align: top;\n",
       "    }\n",
       "\n",
       "    .dataframe thead th {\n",
       "        text-align: right;\n",
       "    }\n",
       "</style>\n",
       "<table border=\"1\" class=\"dataframe\">\n",
       "  <thead>\n",
       "    <tr style=\"text-align: right;\">\n",
       "      <th></th>\n",
       "      <th>value</th>\n",
       "    </tr>\n",
       "    <tr>\n",
       "      <th>Date</th>\n",
       "      <th></th>\n",
       "    </tr>\n",
       "  </thead>\n",
       "  <tbody>\n",
       "    <tr>\n",
       "      <th>2021-08-01</th>\n",
       "      <td>0.253</td>\n",
       "    </tr>\n",
       "    <tr>\n",
       "      <th>2021-09-01</th>\n",
       "      <td>0.411</td>\n",
       "    </tr>\n",
       "    <tr>\n",
       "      <th>2021-10-01</th>\n",
       "      <td>-99.990</td>\n",
       "    </tr>\n",
       "    <tr>\n",
       "      <th>2021-11-01</th>\n",
       "      <td>-99.990</td>\n",
       "    </tr>\n",
       "    <tr>\n",
       "      <th>2021-12-01</th>\n",
       "      <td>-99.990</td>\n",
       "    </tr>\n",
       "  </tbody>\n",
       "</table>\n",
       "</div>"
      ],
      "text/plain": [
       "             value\n",
       "Date              \n",
       "2021-08-01   0.253\n",
       "2021-09-01   0.411\n",
       "2021-10-01 -99.990\n",
       "2021-11-01 -99.990\n",
       "2021-12-01 -99.990"
      ]
     },
     "execution_count": 38,
     "metadata": {},
     "output_type": "execute_result"
    }
   ],
   "source": [
    "df_amo.tail(5)"
   ]
  },
  {
   "cell_type": "markdown",
   "metadata": {},
   "source": [
    "Yup! Looks like they are and conveniently they are the last 3 months within the dataset, so we can just drop them and shorten our time range of investigation."
   ]
  },
  {
   "cell_type": "code",
   "execution_count": 39,
   "metadata": {},
   "outputs": [
    {
     "data": {
      "text/html": [
       "<div>\n",
       "<style scoped>\n",
       "    .dataframe tbody tr th:only-of-type {\n",
       "        vertical-align: middle;\n",
       "    }\n",
       "\n",
       "    .dataframe tbody tr th {\n",
       "        vertical-align: top;\n",
       "    }\n",
       "\n",
       "    .dataframe thead th {\n",
       "        text-align: right;\n",
       "    }\n",
       "</style>\n",
       "<table border=\"1\" class=\"dataframe\">\n",
       "  <thead>\n",
       "    <tr style=\"text-align: right;\">\n",
       "      <th></th>\n",
       "      <th>value</th>\n",
       "    </tr>\n",
       "  </thead>\n",
       "  <tbody>\n",
       "    <tr>\n",
       "      <th>count</th>\n",
       "      <td>861.000000</td>\n",
       "    </tr>\n",
       "    <tr>\n",
       "      <th>mean</th>\n",
       "      <td>-0.004725</td>\n",
       "    </tr>\n",
       "    <tr>\n",
       "      <th>std</th>\n",
       "      <td>0.216120</td>\n",
       "    </tr>\n",
       "    <tr>\n",
       "      <th>min</th>\n",
       "      <td>-0.531000</td>\n",
       "    </tr>\n",
       "    <tr>\n",
       "      <th>25%</th>\n",
       "      <td>-0.163000</td>\n",
       "    </tr>\n",
       "    <tr>\n",
       "      <th>50%</th>\n",
       "      <td>-0.004000</td>\n",
       "    </tr>\n",
       "    <tr>\n",
       "      <th>75%</th>\n",
       "      <td>0.152000</td>\n",
       "    </tr>\n",
       "    <tr>\n",
       "      <th>max</th>\n",
       "      <td>0.513000</td>\n",
       "    </tr>\n",
       "  </tbody>\n",
       "</table>\n",
       "</div>"
      ],
      "text/plain": [
       "            value\n",
       "count  861.000000\n",
       "mean    -0.004725\n",
       "std      0.216120\n",
       "min     -0.531000\n",
       "25%     -0.163000\n",
       "50%     -0.004000\n",
       "75%      0.152000\n",
       "max      0.513000"
      ]
     },
     "execution_count": 39,
     "metadata": {},
     "output_type": "execute_result"
    }
   ],
   "source": [
    "df_amo = df_amo.loc[df_amo[\"value\"] != -99.990]\n",
    "df_amo.describe()"
   ]
  },
  {
   "cell_type": "code",
   "execution_count": 40,
   "metadata": {},
   "outputs": [
    {
     "data": {
      "image/png": "[encoded data removed]",
      "text/plain": [
       "<Figure size 432x288 with 1 Axes>"
      ]
     },
     "metadata": {
      "needs_background": "light"
     },
     "output_type": "display_data"
    }
   ],
   "source": [
    "df_amo.iloc[:].boxplot()\n",
    "plt.show()"
   ]
  },
  {
   "cell_type": "code",
   "execution_count": 41,
   "metadata": {},
   "outputs": [],
   "source": [
    "df_amo.to_csv(\"../Data/Teleconnection_Time_Series/AMO_Clean.csv\")"
   ]
  },
  {
   "cell_type": "markdown",
   "metadata": {},
   "source": [
    "## Cleaning ENSO Dataset"
   ]
  },
  {
   "cell_type": "code",
   "execution_count": 42,
   "metadata": {},
   "outputs": [
    {
     "name": "stdout",
     "output_type": "stream",
     "text": [
      "<class 'pandas.core.frame.DataFrame'>\n",
      "DatetimeIndex: 864 entries, 1950-01-01 to 2021-12-01\n",
      "Data columns (total 1 columns):\n",
      " #   Column  Non-Null Count  Dtype  \n",
      "---  ------  --------------  -----  \n",
      " 0   value   864 non-null    float64\n",
      "dtypes: float64(1)\n",
      "memory usage: 13.5 KB\n"
     ]
    }
   ],
   "source": [
    "file_path = \"../Data/Teleconnection_Time_Series/ENSO_1950_present_monthly.csv\"\n",
    "df_enso = pd.read_csv(\n",
    "    file_path,\n",
    "    index_col = \"Date\", \n",
    "    parse_dates=True\n",
    ")\n",
    "df_enso.info()"
   ]
  },
  {
   "cell_type": "code",
   "execution_count": 43,
   "metadata": {},
   "outputs": [
    {
     "data": {
      "text/html": [
       "<div>\n",
       "<style scoped>\n",
       "    .dataframe tbody tr th:only-of-type {\n",
       "        vertical-align: middle;\n",
       "    }\n",
       "\n",
       "    .dataframe tbody tr th {\n",
       "        vertical-align: top;\n",
       "    }\n",
       "\n",
       "    .dataframe thead th {\n",
       "        text-align: right;\n",
       "    }\n",
       "</style>\n",
       "<table border=\"1\" class=\"dataframe\">\n",
       "  <thead>\n",
       "    <tr style=\"text-align: right;\">\n",
       "      <th></th>\n",
       "      <th>value</th>\n",
       "    </tr>\n",
       "  </thead>\n",
       "  <tbody>\n",
       "    <tr>\n",
       "      <th>count</th>\n",
       "      <td>864.000000</td>\n",
       "    </tr>\n",
       "    <tr>\n",
       "      <th>mean</th>\n",
       "      <td>26.602755</td>\n",
       "    </tr>\n",
       "    <tr>\n",
       "      <th>std</th>\n",
       "      <td>6.179599</td>\n",
       "    </tr>\n",
       "    <tr>\n",
       "      <th>min</th>\n",
       "      <td>-99.990000</td>\n",
       "    </tr>\n",
       "    <tr>\n",
       "      <th>25%</th>\n",
       "      <td>26.210000</td>\n",
       "    </tr>\n",
       "    <tr>\n",
       "      <th>50%</th>\n",
       "      <td>26.975000</td>\n",
       "    </tr>\n",
       "    <tr>\n",
       "      <th>75%</th>\n",
       "      <td>27.570000</td>\n",
       "    </tr>\n",
       "    <tr>\n",
       "      <th>max</th>\n",
       "      <td>29.420000</td>\n",
       "    </tr>\n",
       "  </tbody>\n",
       "</table>\n",
       "</div>"
      ],
      "text/plain": [
       "            value\n",
       "count  864.000000\n",
       "mean    26.602755\n",
       "std      6.179599\n",
       "min    -99.990000\n",
       "25%     26.210000\n",
       "50%     26.975000\n",
       "75%     27.570000\n",
       "max     29.420000"
      ]
     },
     "execution_count": 43,
     "metadata": {},
     "output_type": "execute_result"
    }
   ],
   "source": [
    "df_enso.describe()"
   ]
  },
  {
   "cell_type": "code",
   "execution_count": 44,
   "metadata": {},
   "outputs": [
    {
     "data": {
      "text/html": [
       "<div>\n",
       "<style scoped>\n",
       "    .dataframe tbody tr th:only-of-type {\n",
       "        vertical-align: middle;\n",
       "    }\n",
       "\n",
       "    .dataframe tbody tr th {\n",
       "        vertical-align: top;\n",
       "    }\n",
       "\n",
       "    .dataframe thead th {\n",
       "        text-align: right;\n",
       "    }\n",
       "</style>\n",
       "<table border=\"1\" class=\"dataframe\">\n",
       "  <thead>\n",
       "    <tr style=\"text-align: right;\">\n",
       "      <th></th>\n",
       "      <th>value</th>\n",
       "    </tr>\n",
       "    <tr>\n",
       "      <th>Date</th>\n",
       "      <th></th>\n",
       "    </tr>\n",
       "  </thead>\n",
       "  <tbody>\n",
       "    <tr>\n",
       "      <th>1950-01-01</th>\n",
       "      <td>24.55</td>\n",
       "    </tr>\n",
       "    <tr>\n",
       "      <th>1950-02-01</th>\n",
       "      <td>25.06</td>\n",
       "    </tr>\n",
       "    <tr>\n",
       "      <th>1950-03-01</th>\n",
       "      <td>25.87</td>\n",
       "    </tr>\n",
       "    <tr>\n",
       "      <th>1950-04-01</th>\n",
       "      <td>26.28</td>\n",
       "    </tr>\n",
       "    <tr>\n",
       "      <th>1950-05-01</th>\n",
       "      <td>26.18</td>\n",
       "    </tr>\n",
       "  </tbody>\n",
       "</table>\n",
       "</div>"
      ],
      "text/plain": [
       "            value\n",
       "Date             \n",
       "1950-01-01  24.55\n",
       "1950-02-01  25.06\n",
       "1950-03-01  25.87\n",
       "1950-04-01  26.28\n",
       "1950-05-01  26.18"
      ]
     },
     "execution_count": 44,
     "metadata": {},
     "output_type": "execute_result"
    }
   ],
   "source": [
    "df_enso.head(5)"
   ]
  },
  {
   "cell_type": "code",
   "execution_count": 45,
   "metadata": {},
   "outputs": [
    {
     "data": {
      "text/plain": [
       "DatetimeIndex(['2021-11-01', '2021-12-01'], dtype='datetime64[ns]', name='Date', freq=None)"
      ]
     },
     "execution_count": 45,
     "metadata": {},
     "output_type": "execute_result"
    }
   ],
   "source": [
    "df_enso[df_enso[\"value\"] == -99.990].index"
   ]
  },
  {
   "cell_type": "code",
   "execution_count": 46,
   "metadata": {
    "scrolled": true
   },
   "outputs": [
    {
     "data": {
      "image/png": "[encoded data removed]",
      "text/plain": [
       "<Figure size 432x288 with 1 Axes>"
      ]
     },
     "metadata": {
      "needs_background": "light"
     },
     "output_type": "display_data"
    }
   ],
   "source": [
    "df_enso.iloc[:].boxplot()\n",
    "plt.show()"
   ]
  },
  {
   "cell_type": "code",
   "execution_count": 47,
   "metadata": {},
   "outputs": [
    {
     "data": {
      "text/html": [
       "<div>\n",
       "<style scoped>\n",
       "    .dataframe tbody tr th:only-of-type {\n",
       "        vertical-align: middle;\n",
       "    }\n",
       "\n",
       "    .dataframe tbody tr th {\n",
       "        vertical-align: top;\n",
       "    }\n",
       "\n",
       "    .dataframe thead th {\n",
       "        text-align: right;\n",
       "    }\n",
       "</style>\n",
       "<table border=\"1\" class=\"dataframe\">\n",
       "  <thead>\n",
       "    <tr style=\"text-align: right;\">\n",
       "      <th></th>\n",
       "      <th>value</th>\n",
       "    </tr>\n",
       "    <tr>\n",
       "      <th>Date</th>\n",
       "      <th></th>\n",
       "    </tr>\n",
       "  </thead>\n",
       "  <tbody>\n",
       "    <tr>\n",
       "      <th>2021-08-01</th>\n",
       "      <td>26.35</td>\n",
       "    </tr>\n",
       "    <tr>\n",
       "      <th>2021-09-01</th>\n",
       "      <td>26.16</td>\n",
       "    </tr>\n",
       "    <tr>\n",
       "      <th>2021-10-01</th>\n",
       "      <td>25.77</td>\n",
       "    </tr>\n",
       "    <tr>\n",
       "      <th>2021-11-01</th>\n",
       "      <td>-99.99</td>\n",
       "    </tr>\n",
       "    <tr>\n",
       "      <th>2021-12-01</th>\n",
       "      <td>-99.99</td>\n",
       "    </tr>\n",
       "  </tbody>\n",
       "</table>\n",
       "</div>"
      ],
      "text/plain": [
       "            value\n",
       "Date             \n",
       "2021-08-01  26.35\n",
       "2021-09-01  26.16\n",
       "2021-10-01  25.77\n",
       "2021-11-01 -99.99\n",
       "2021-12-01 -99.99"
      ]
     },
     "execution_count": 47,
     "metadata": {},
     "output_type": "execute_result"
    }
   ],
   "source": [
    "df_enso.tail(5)"
   ]
  },
  {
   "cell_type": "code",
   "execution_count": 48,
   "metadata": {},
   "outputs": [
    {
     "data": {
      "text/html": [
       "<div>\n",
       "<style scoped>\n",
       "    .dataframe tbody tr th:only-of-type {\n",
       "        vertical-align: middle;\n",
       "    }\n",
       "\n",
       "    .dataframe tbody tr th {\n",
       "        vertical-align: top;\n",
       "    }\n",
       "\n",
       "    .dataframe thead th {\n",
       "        text-align: right;\n",
       "    }\n",
       "</style>\n",
       "<table border=\"1\" class=\"dataframe\">\n",
       "  <thead>\n",
       "    <tr style=\"text-align: right;\">\n",
       "      <th></th>\n",
       "      <th>value</th>\n",
       "    </tr>\n",
       "  </thead>\n",
       "  <tbody>\n",
       "    <tr>\n",
       "      <th>count</th>\n",
       "      <td>862.000000</td>\n",
       "    </tr>\n",
       "    <tr>\n",
       "      <th>mean</th>\n",
       "      <td>26.896473</td>\n",
       "    </tr>\n",
       "    <tr>\n",
       "      <th>std</th>\n",
       "      <td>0.981801</td>\n",
       "    </tr>\n",
       "    <tr>\n",
       "      <th>min</th>\n",
       "      <td>24.250000</td>\n",
       "    </tr>\n",
       "    <tr>\n",
       "      <th>25%</th>\n",
       "      <td>26.220000</td>\n",
       "    </tr>\n",
       "    <tr>\n",
       "      <th>50%</th>\n",
       "      <td>26.980000</td>\n",
       "    </tr>\n",
       "    <tr>\n",
       "      <th>75%</th>\n",
       "      <td>27.570000</td>\n",
       "    </tr>\n",
       "    <tr>\n",
       "      <th>max</th>\n",
       "      <td>29.420000</td>\n",
       "    </tr>\n",
       "  </tbody>\n",
       "</table>\n",
       "</div>"
      ],
      "text/plain": [
       "            value\n",
       "count  862.000000\n",
       "mean    26.896473\n",
       "std      0.981801\n",
       "min     24.250000\n",
       "25%     26.220000\n",
       "50%     26.980000\n",
       "75%     27.570000\n",
       "max     29.420000"
      ]
     },
     "execution_count": 48,
     "metadata": {},
     "output_type": "execute_result"
    }
   ],
   "source": [
    "df_enso = df_enso.loc[df_enso[\"value\"] != -99.990]\n",
    "df_enso.describe()"
   ]
  },
  {
   "cell_type": "code",
   "execution_count": 49,
   "metadata": {},
   "outputs": [
    {
     "data": {
      "image/png": "[encoded data removed]",
      "text/plain": [
       "<Figure size 432x288 with 1 Axes>"
      ]
     },
     "metadata": {
      "needs_background": "light"
     },
     "output_type": "display_data"
    }
   ],
   "source": [
    "df_enso.iloc[:].boxplot()\n",
    "plt.show()"
   ]
  },
  {
   "cell_type": "code",
   "execution_count": 50,
   "metadata": {},
   "outputs": [],
   "source": [
    "df_enso.to_csv(\"../Data/Teleconnection_Time_Series/ENSO_Clean.csv\")"
   ]
  },
  {
   "cell_type": "markdown",
   "metadata": {},
   "source": [
    "## Cleaning PDO Dataset"
   ]
  },
  {
   "cell_type": "code",
   "execution_count": 51,
   "metadata": {},
   "outputs": [
    {
     "name": "stdout",
     "output_type": "stream",
     "text": [
      "<class 'pandas.core.frame.DataFrame'>\n",
      "DatetimeIndex: 864 entries, 1950-01-01 to 2021-12-01\n",
      "Data columns (total 1 columns):\n",
      " #   Column  Non-Null Count  Dtype  \n",
      "---  ------  --------------  -----  \n",
      " 0   value   864 non-null    float64\n",
      "dtypes: float64(1)\n",
      "memory usage: 13.5 KB\n"
     ]
    }
   ],
   "source": [
    "file_path = \"../Data/Teleconnection_Time_Series/PDO_1950_present_monthly.csv\"\n",
    "df_pdo = pd.read_csv(\n",
    "    file_path,\n",
    "    index_col = \"Date\", \n",
    "    parse_dates=True\n",
    ")\n",
    "df_pdo.info()"
   ]
  },
  {
   "cell_type": "code",
   "execution_count": 52,
   "metadata": {},
   "outputs": [
    {
     "data": {
      "text/html": [
       "<div>\n",
       "<style scoped>\n",
       "    .dataframe tbody tr th:only-of-type {\n",
       "        vertical-align: middle;\n",
       "    }\n",
       "\n",
       "    .dataframe tbody tr th {\n",
       "        vertical-align: top;\n",
       "    }\n",
       "\n",
       "    .dataframe thead th {\n",
       "        text-align: right;\n",
       "    }\n",
       "</style>\n",
       "<table border=\"1\" class=\"dataframe\">\n",
       "  <thead>\n",
       "    <tr style=\"text-align: right;\">\n",
       "      <th></th>\n",
       "      <th>value</th>\n",
       "    </tr>\n",
       "  </thead>\n",
       "  <tbody>\n",
       "    <tr>\n",
       "      <th>count</th>\n",
       "      <td>864.000000</td>\n",
       "    </tr>\n",
       "    <tr>\n",
       "      <th>mean</th>\n",
       "      <td>-23.287648</td>\n",
       "    </tr>\n",
       "    <tr>\n",
       "      <th>std</th>\n",
       "      <td>480.792398</td>\n",
       "    </tr>\n",
       "    <tr>\n",
       "      <th>min</th>\n",
       "      <td>-9999.000000</td>\n",
       "    </tr>\n",
       "    <tr>\n",
       "      <th>25%</th>\n",
       "      <td>-0.837000</td>\n",
       "    </tr>\n",
       "    <tr>\n",
       "      <th>50%</th>\n",
       "      <td>-0.149000</td>\n",
       "    </tr>\n",
       "    <tr>\n",
       "      <th>75%</th>\n",
       "      <td>0.531750</td>\n",
       "    </tr>\n",
       "    <tr>\n",
       "      <th>max</th>\n",
       "      <td>2.382000</td>\n",
       "    </tr>\n",
       "  </tbody>\n",
       "</table>\n",
       "</div>"
      ],
      "text/plain": [
       "             value\n",
       "count   864.000000\n",
       "mean    -23.287648\n",
       "std     480.792398\n",
       "min   -9999.000000\n",
       "25%      -0.837000\n",
       "50%      -0.149000\n",
       "75%       0.531750\n",
       "max       2.382000"
      ]
     },
     "execution_count": 52,
     "metadata": {},
     "output_type": "execute_result"
    }
   ],
   "source": [
    "df_pdo.describe()"
   ]
  },
  {
   "cell_type": "code",
   "execution_count": 53,
   "metadata": {},
   "outputs": [
    {
     "data": {
      "text/html": [
       "<div>\n",
       "<style scoped>\n",
       "    .dataframe tbody tr th:only-of-type {\n",
       "        vertical-align: middle;\n",
       "    }\n",
       "\n",
       "    .dataframe tbody tr th {\n",
       "        vertical-align: top;\n",
       "    }\n",
       "\n",
       "    .dataframe thead th {\n",
       "        text-align: right;\n",
       "    }\n",
       "</style>\n",
       "<table border=\"1\" class=\"dataframe\">\n",
       "  <thead>\n",
       "    <tr style=\"text-align: right;\">\n",
       "      <th></th>\n",
       "      <th>value</th>\n",
       "    </tr>\n",
       "    <tr>\n",
       "      <th>Date</th>\n",
       "      <th></th>\n",
       "    </tr>\n",
       "  </thead>\n",
       "  <tbody>\n",
       "    <tr>\n",
       "      <th>1950-01-01</th>\n",
       "      <td>-1.317</td>\n",
       "    </tr>\n",
       "    <tr>\n",
       "      <th>1950-02-01</th>\n",
       "      <td>-1.654</td>\n",
       "    </tr>\n",
       "    <tr>\n",
       "      <th>1950-03-01</th>\n",
       "      <td>-1.346</td>\n",
       "    </tr>\n",
       "    <tr>\n",
       "      <th>1950-04-01</th>\n",
       "      <td>-1.402</td>\n",
       "    </tr>\n",
       "    <tr>\n",
       "      <th>1950-05-01</th>\n",
       "      <td>-2.423</td>\n",
       "    </tr>\n",
       "  </tbody>\n",
       "</table>\n",
       "</div>"
      ],
      "text/plain": [
       "            value\n",
       "Date             \n",
       "1950-01-01 -1.317\n",
       "1950-02-01 -1.654\n",
       "1950-03-01 -1.346\n",
       "1950-04-01 -1.402\n",
       "1950-05-01 -2.423"
      ]
     },
     "execution_count": 53,
     "metadata": {},
     "output_type": "execute_result"
    }
   ],
   "source": [
    "df_pdo.head(5)"
   ]
  },
  {
   "cell_type": "code",
   "execution_count": 54,
   "metadata": {},
   "outputs": [
    {
     "data": {
      "text/plain": [
       "DatetimeIndex(['2021-11-01', '2021-12-01'], dtype='datetime64[ns]', name='Date', freq=None)"
      ]
     },
     "execution_count": 54,
     "metadata": {},
     "output_type": "execute_result"
    }
   ],
   "source": [
    "df_pdo[df_pdo[\"value\"] == -9999.0].index"
   ]
  },
  {
   "cell_type": "code",
   "execution_count": 55,
   "metadata": {},
   "outputs": [
    {
     "data": {
      "image/png": "[encoded data removed]",
      "text/plain": [
       "<Figure size 432x288 with 1 Axes>"
      ]
     },
     "metadata": {
      "needs_background": "light"
     },
     "output_type": "display_data"
    }
   ],
   "source": [
    "df_pdo.iloc[:].boxplot()\n",
    "plt.show()"
   ]
  },
  {
   "cell_type": "code",
   "execution_count": 56,
   "metadata": {},
   "outputs": [
    {
     "data": {
      "text/html": [
       "<div>\n",
       "<style scoped>\n",
       "    .dataframe tbody tr th:only-of-type {\n",
       "        vertical-align: middle;\n",
       "    }\n",
       "\n",
       "    .dataframe tbody tr th {\n",
       "        vertical-align: top;\n",
       "    }\n",
       "\n",
       "    .dataframe thead th {\n",
       "        text-align: right;\n",
       "    }\n",
       "</style>\n",
       "<table border=\"1\" class=\"dataframe\">\n",
       "  <thead>\n",
       "    <tr style=\"text-align: right;\">\n",
       "      <th></th>\n",
       "      <th>value</th>\n",
       "    </tr>\n",
       "    <tr>\n",
       "      <th>Date</th>\n",
       "      <th></th>\n",
       "    </tr>\n",
       "  </thead>\n",
       "  <tbody>\n",
       "    <tr>\n",
       "      <th>2021-08-01</th>\n",
       "      <td>-0.719</td>\n",
       "    </tr>\n",
       "    <tr>\n",
       "      <th>2021-09-01</th>\n",
       "      <td>-1.645</td>\n",
       "    </tr>\n",
       "    <tr>\n",
       "      <th>2021-10-01</th>\n",
       "      <td>-2.648</td>\n",
       "    </tr>\n",
       "    <tr>\n",
       "      <th>2021-11-01</th>\n",
       "      <td>-9999.000</td>\n",
       "    </tr>\n",
       "    <tr>\n",
       "      <th>2021-12-01</th>\n",
       "      <td>-9999.000</td>\n",
       "    </tr>\n",
       "  </tbody>\n",
       "</table>\n",
       "</div>"
      ],
      "text/plain": [
       "               value\n",
       "Date                \n",
       "2021-08-01    -0.719\n",
       "2021-09-01    -1.645\n",
       "2021-10-01    -2.648\n",
       "2021-11-01 -9999.000\n",
       "2021-12-01 -9999.000"
      ]
     },
     "execution_count": 56,
     "metadata": {},
     "output_type": "execute_result"
    }
   ],
   "source": [
    "df_pdo.tail(5)"
   ]
  },
  {
   "cell_type": "code",
   "execution_count": 57,
   "metadata": {},
   "outputs": [
    {
     "data": {
      "text/html": [
       "<div>\n",
       "<style scoped>\n",
       "    .dataframe tbody tr th:only-of-type {\n",
       "        vertical-align: middle;\n",
       "    }\n",
       "\n",
       "    .dataframe tbody tr th {\n",
       "        vertical-align: top;\n",
       "    }\n",
       "\n",
       "    .dataframe thead th {\n",
       "        text-align: right;\n",
       "    }\n",
       "</style>\n",
       "<table border=\"1\" class=\"dataframe\">\n",
       "  <thead>\n",
       "    <tr style=\"text-align: right;\">\n",
       "      <th></th>\n",
       "      <th>value</th>\n",
       "    </tr>\n",
       "  </thead>\n",
       "  <tbody>\n",
       "    <tr>\n",
       "      <th>count</th>\n",
       "      <td>862.000000</td>\n",
       "    </tr>\n",
       "    <tr>\n",
       "      <th>mean</th>\n",
       "      <td>-0.142144</td>\n",
       "    </tr>\n",
       "    <tr>\n",
       "      <th>std</th>\n",
       "      <td>0.944523</td>\n",
       "    </tr>\n",
       "    <tr>\n",
       "      <th>min</th>\n",
       "      <td>-2.648000</td>\n",
       "    </tr>\n",
       "    <tr>\n",
       "      <th>25%</th>\n",
       "      <td>-0.831250</td>\n",
       "    </tr>\n",
       "    <tr>\n",
       "      <th>50%</th>\n",
       "      <td>-0.142000</td>\n",
       "    </tr>\n",
       "    <tr>\n",
       "      <th>75%</th>\n",
       "      <td>0.537250</td>\n",
       "    </tr>\n",
       "    <tr>\n",
       "      <th>max</th>\n",
       "      <td>2.382000</td>\n",
       "    </tr>\n",
       "  </tbody>\n",
       "</table>\n",
       "</div>"
      ],
      "text/plain": [
       "            value\n",
       "count  862.000000\n",
       "mean    -0.142144\n",
       "std      0.944523\n",
       "min     -2.648000\n",
       "25%     -0.831250\n",
       "50%     -0.142000\n",
       "75%      0.537250\n",
       "max      2.382000"
      ]
     },
     "execution_count": 57,
     "metadata": {},
     "output_type": "execute_result"
    }
   ],
   "source": [
    "df_pdo = df_pdo.loc[df_pdo[\"value\"] != -9999.0]\n",
    "df_pdo.describe()"
   ]
  },
  {
   "cell_type": "code",
   "execution_count": 58,
   "metadata": {},
   "outputs": [
    {
     "data": {
      "image/png": "[encoded data removed]",
      "text/plain": [
       "<Figure size 432x288 with 1 Axes>"
      ]
     },
     "metadata": {
      "needs_background": "light"
     },
     "output_type": "display_data"
    }
   ],
   "source": [
    "df_pdo.iloc[:].boxplot()\n",
    "plt.show()"
   ]
  },
  {
   "cell_type": "code",
   "execution_count": 59,
   "metadata": {},
   "outputs": [],
   "source": [
    "df_pdo.to_csv(\"../Data/Teleconnection_Time_Series/PDO_Clean.csv\")"
   ]
  },
  {
   "cell_type": "markdown",
   "metadata": {},
   "source": [
    "## Cleaning PNA Dataset"
   ]
  },
  {
   "cell_type": "code",
   "execution_count": 60,
   "metadata": {},
   "outputs": [
    {
     "name": "stdout",
     "output_type": "stream",
     "text": [
      "<class 'pandas.core.frame.DataFrame'>\n",
      "DatetimeIndex: 864 entries, 1950-01-01 to 2021-12-01\n",
      "Data columns (total 1 columns):\n",
      " #   Column  Non-Null Count  Dtype  \n",
      "---  ------  --------------  -----  \n",
      " 0   value   864 non-null    float64\n",
      "dtypes: float64(1)\n",
      "memory usage: 13.5 KB\n"
     ]
    }
   ],
   "source": [
    "file_path = \"../Data/Teleconnection_Time_Series/PNA_1950_present_monthly.csv\"\n",
    "df_pna = pd.read_csv(\n",
    "    file_path,\n",
    "    index_col = \"Date\", \n",
    "    parse_dates=True\n",
    ")\n",
    "df_pna.info()"
   ]
  },
  {
   "cell_type": "code",
   "execution_count": 61,
   "metadata": {},
   "outputs": [
    {
     "data": {
      "text/html": [
       "<div>\n",
       "<style scoped>\n",
       "    .dataframe tbody tr th:only-of-type {\n",
       "        vertical-align: middle;\n",
       "    }\n",
       "\n",
       "    .dataframe tbody tr th {\n",
       "        vertical-align: top;\n",
       "    }\n",
       "\n",
       "    .dataframe thead th {\n",
       "        text-align: right;\n",
       "    }\n",
       "</style>\n",
       "<table border=\"1\" class=\"dataframe\">\n",
       "  <thead>\n",
       "    <tr style=\"text-align: right;\">\n",
       "      <th></th>\n",
       "      <th>value</th>\n",
       "    </tr>\n",
       "  </thead>\n",
       "  <tbody>\n",
       "    <tr>\n",
       "      <th>count</th>\n",
       "      <td>864.000000</td>\n",
       "    </tr>\n",
       "    <tr>\n",
       "      <th>mean</th>\n",
       "      <td>-0.336412</td>\n",
       "    </tr>\n",
       "    <tr>\n",
       "      <th>std</th>\n",
       "      <td>4.908525</td>\n",
       "    </tr>\n",
       "    <tr>\n",
       "      <th>min</th>\n",
       "      <td>-99.900000</td>\n",
       "    </tr>\n",
       "    <tr>\n",
       "      <th>25%</th>\n",
       "      <td>-0.792500</td>\n",
       "    </tr>\n",
       "    <tr>\n",
       "      <th>50%</th>\n",
       "      <td>-0.080000</td>\n",
       "    </tr>\n",
       "    <tr>\n",
       "      <th>75%</th>\n",
       "      <td>0.600000</td>\n",
       "    </tr>\n",
       "    <tr>\n",
       "      <th>max</th>\n",
       "      <td>2.870000</td>\n",
       "    </tr>\n",
       "  </tbody>\n",
       "</table>\n",
       "</div>"
      ],
      "text/plain": [
       "            value\n",
       "count  864.000000\n",
       "mean    -0.336412\n",
       "std      4.908525\n",
       "min    -99.900000\n",
       "25%     -0.792500\n",
       "50%     -0.080000\n",
       "75%      0.600000\n",
       "max      2.870000"
      ]
     },
     "execution_count": 61,
     "metadata": {},
     "output_type": "execute_result"
    }
   ],
   "source": [
    "df_pna.describe()"
   ]
  },
  {
   "cell_type": "code",
   "execution_count": 62,
   "metadata": {},
   "outputs": [
    {
     "data": {
      "text/html": [
       "<div>\n",
       "<style scoped>\n",
       "    .dataframe tbody tr th:only-of-type {\n",
       "        vertical-align: middle;\n",
       "    }\n",
       "\n",
       "    .dataframe tbody tr th {\n",
       "        vertical-align: top;\n",
       "    }\n",
       "\n",
       "    .dataframe thead th {\n",
       "        text-align: right;\n",
       "    }\n",
       "</style>\n",
       "<table border=\"1\" class=\"dataframe\">\n",
       "  <thead>\n",
       "    <tr style=\"text-align: right;\">\n",
       "      <th></th>\n",
       "      <th>value</th>\n",
       "    </tr>\n",
       "    <tr>\n",
       "      <th>Date</th>\n",
       "      <th></th>\n",
       "    </tr>\n",
       "  </thead>\n",
       "  <tbody>\n",
       "    <tr>\n",
       "      <th>1950-01-01</th>\n",
       "      <td>-3.65</td>\n",
       "    </tr>\n",
       "    <tr>\n",
       "      <th>1950-02-01</th>\n",
       "      <td>-1.69</td>\n",
       "    </tr>\n",
       "    <tr>\n",
       "      <th>1950-03-01</th>\n",
       "      <td>-0.06</td>\n",
       "    </tr>\n",
       "    <tr>\n",
       "      <th>1950-04-01</th>\n",
       "      <td>-0.23</td>\n",
       "    </tr>\n",
       "    <tr>\n",
       "      <th>1950-05-01</th>\n",
       "      <td>-0.40</td>\n",
       "    </tr>\n",
       "  </tbody>\n",
       "</table>\n",
       "</div>"
      ],
      "text/plain": [
       "            value\n",
       "Date             \n",
       "1950-01-01  -3.65\n",
       "1950-02-01  -1.69\n",
       "1950-03-01  -0.06\n",
       "1950-04-01  -0.23\n",
       "1950-05-01  -0.40"
      ]
     },
     "execution_count": 62,
     "metadata": {},
     "output_type": "execute_result"
    }
   ],
   "source": [
    "df_pna.head(5)"
   ]
  },
  {
   "cell_type": "code",
   "execution_count": 63,
   "metadata": {},
   "outputs": [
    {
     "data": {
      "text/plain": [
       "DatetimeIndex(['2021-11-01', '2021-12-01'], dtype='datetime64[ns]', name='Date', freq=None)"
      ]
     },
     "execution_count": 63,
     "metadata": {},
     "output_type": "execute_result"
    }
   ],
   "source": [
    "df_pna[df_pna[\"value\"] == -99.90].index"
   ]
  },
  {
   "cell_type": "code",
   "execution_count": 64,
   "metadata": {
    "scrolled": true
   },
   "outputs": [
    {
     "data": {
      "image/png": "[encoded data removed]",
      "text/plain": [
       "<Figure size 432x288 with 1 Axes>"
      ]
     },
     "metadata": {
      "needs_background": "light"
     },
     "output_type": "display_data"
    }
   ],
   "source": [
    "df_pna.iloc[:].boxplot()\n",
    "plt.show()"
   ]
  },
  {
   "cell_type": "code",
   "execution_count": 65,
   "metadata": {},
   "outputs": [
    {
     "data": {
      "text/html": [
       "<div>\n",
       "<style scoped>\n",
       "    .dataframe tbody tr th:only-of-type {\n",
       "        vertical-align: middle;\n",
       "    }\n",
       "\n",
       "    .dataframe tbody tr th {\n",
       "        vertical-align: top;\n",
       "    }\n",
       "\n",
       "    .dataframe thead th {\n",
       "        text-align: right;\n",
       "    }\n",
       "</style>\n",
       "<table border=\"1\" class=\"dataframe\">\n",
       "  <thead>\n",
       "    <tr style=\"text-align: right;\">\n",
       "      <th></th>\n",
       "      <th>value</th>\n",
       "    </tr>\n",
       "    <tr>\n",
       "      <th>Date</th>\n",
       "      <th></th>\n",
       "    </tr>\n",
       "  </thead>\n",
       "  <tbody>\n",
       "    <tr>\n",
       "      <th>2021-08-01</th>\n",
       "      <td>0.93</td>\n",
       "    </tr>\n",
       "    <tr>\n",
       "      <th>2021-09-01</th>\n",
       "      <td>0.33</td>\n",
       "    </tr>\n",
       "    <tr>\n",
       "      <th>2021-10-01</th>\n",
       "      <td>1.41</td>\n",
       "    </tr>\n",
       "    <tr>\n",
       "      <th>2021-11-01</th>\n",
       "      <td>-99.90</td>\n",
       "    </tr>\n",
       "    <tr>\n",
       "      <th>2021-12-01</th>\n",
       "      <td>-99.90</td>\n",
       "    </tr>\n",
       "  </tbody>\n",
       "</table>\n",
       "</div>"
      ],
      "text/plain": [
       "            value\n",
       "Date             \n",
       "2021-08-01   0.93\n",
       "2021-09-01   0.33\n",
       "2021-10-01   1.41\n",
       "2021-11-01 -99.90\n",
       "2021-12-01 -99.90"
      ]
     },
     "execution_count": 65,
     "metadata": {},
     "output_type": "execute_result"
    }
   ],
   "source": [
    "df_pna.tail(5)"
   ]
  },
  {
   "cell_type": "code",
   "execution_count": 66,
   "metadata": {},
   "outputs": [
    {
     "data": {
      "text/html": [
       "<div>\n",
       "<style scoped>\n",
       "    .dataframe tbody tr th:only-of-type {\n",
       "        vertical-align: middle;\n",
       "    }\n",
       "\n",
       "    .dataframe tbody tr th {\n",
       "        vertical-align: top;\n",
       "    }\n",
       "\n",
       "    .dataframe thead th {\n",
       "        text-align: right;\n",
       "    }\n",
       "</style>\n",
       "<table border=\"1\" class=\"dataframe\">\n",
       "  <thead>\n",
       "    <tr style=\"text-align: right;\">\n",
       "      <th></th>\n",
       "      <th>value</th>\n",
       "    </tr>\n",
       "  </thead>\n",
       "  <tbody>\n",
       "    <tr>\n",
       "      <th>count</th>\n",
       "      <td>862.000000</td>\n",
       "    </tr>\n",
       "    <tr>\n",
       "      <th>mean</th>\n",
       "      <td>-0.105406</td>\n",
       "    </tr>\n",
       "    <tr>\n",
       "      <th>std</th>\n",
       "      <td>1.034244</td>\n",
       "    </tr>\n",
       "    <tr>\n",
       "      <th>min</th>\n",
       "      <td>-3.650000</td>\n",
       "    </tr>\n",
       "    <tr>\n",
       "      <th>25%</th>\n",
       "      <td>-0.787500</td>\n",
       "    </tr>\n",
       "    <tr>\n",
       "      <th>50%</th>\n",
       "      <td>-0.080000</td>\n",
       "    </tr>\n",
       "    <tr>\n",
       "      <th>75%</th>\n",
       "      <td>0.600000</td>\n",
       "    </tr>\n",
       "    <tr>\n",
       "      <th>max</th>\n",
       "      <td>2.870000</td>\n",
       "    </tr>\n",
       "  </tbody>\n",
       "</table>\n",
       "</div>"
      ],
      "text/plain": [
       "            value\n",
       "count  862.000000\n",
       "mean    -0.105406\n",
       "std      1.034244\n",
       "min     -3.650000\n",
       "25%     -0.787500\n",
       "50%     -0.080000\n",
       "75%      0.600000\n",
       "max      2.870000"
      ]
     },
     "execution_count": 66,
     "metadata": {},
     "output_type": "execute_result"
    }
   ],
   "source": [
    "df_pna = df_pna.loc[df_pna[\"value\"] != -99.90]\n",
    "df_pna.describe()"
   ]
  },
  {
   "cell_type": "code",
   "execution_count": 67,
   "metadata": {},
   "outputs": [
    {
     "data": {
      "image/png": "[encoded data removed]",
      "text/plain": [
       "<Figure size 432x288 with 1 Axes>"
      ]
     },
     "metadata": {
      "needs_background": "light"
     },
     "output_type": "display_data"
    }
   ],
   "source": [
    "df_pna.iloc[:].boxplot()\n",
    "plt.show()"
   ]
  },
  {
   "cell_type": "code",
   "execution_count": 68,
   "metadata": {},
   "outputs": [],
   "source": [
    "df_pna.to_csv(\"../Data/Teleconnection_Time_Series/PNA_Clean.csv\")"
   ]
  },
  {
   "cell_type": "markdown",
   "metadata": {},
   "source": [
    "## Cleaning Sun Spot Dataset"
   ]
  },
  {
   "cell_type": "code",
   "execution_count": 69,
   "metadata": {},
   "outputs": [
    {
     "name": "stdout",
     "output_type": "stream",
     "text": [
      "<class 'pandas.core.frame.DataFrame'>\n",
      "DatetimeIndex: 15645 entries, 1978-01-01 to 2020-10-31\n",
      "Data columns (total 8 columns):\n",
      " #   Column       Non-Null Count  Dtype  \n",
      "---  ------       --------------  -----  \n",
      " 0   Dailyn       15645 non-null  float64\n",
      " 1   Dailys       15645 non-null  float64\n",
      " 2   Dailyn_area  15645 non-null  float64\n",
      " 3   Dailys_area  15645 non-null  float64\n",
      " 4   Daily_n_t06  15645 non-null  float64\n",
      " 5   Daily_s_t06  15645 non-null  float64\n",
      " 6   Dailyn_sil   15645 non-null  int64  \n",
      " 7   Dailys_sil   15645 non-null  int64  \n",
      "dtypes: float64(6), int64(2)\n",
      "memory usage: 1.1 MB\n"
     ]
    }
   ],
   "source": [
    "file_path = \"../Data/Teleconnection_Time_Series/Sunspots_1978_present_daily.csv\"\n",
    "df_sun = pd.read_csv(\n",
    "    file_path,\n",
    "    index_col = \"Date\", \n",
    "    parse_dates=True\n",
    ")\n",
    "df_sun.info()"
   ]
  },
  {
   "cell_type": "code",
   "execution_count": 70,
   "metadata": {},
   "outputs": [
    {
     "data": {
      "text/html": [
       "<div>\n",
       "<style scoped>\n",
       "    .dataframe tbody tr th:only-of-type {\n",
       "        vertical-align: middle;\n",
       "    }\n",
       "\n",
       "    .dataframe tbody tr th {\n",
       "        vertical-align: top;\n",
       "    }\n",
       "\n",
       "    .dataframe thead th {\n",
       "        text-align: right;\n",
       "    }\n",
       "</style>\n",
       "<table border=\"1\" class=\"dataframe\">\n",
       "  <thead>\n",
       "    <tr style=\"text-align: right;\">\n",
       "      <th></th>\n",
       "      <th>Dailyn</th>\n",
       "      <th>Dailys</th>\n",
       "      <th>Dailyn_area</th>\n",
       "      <th>Dailys_area</th>\n",
       "      <th>Daily_n_t06</th>\n",
       "      <th>Daily_s_t06</th>\n",
       "      <th>Dailyn_sil</th>\n",
       "      <th>Dailys_sil</th>\n",
       "    </tr>\n",
       "  </thead>\n",
       "  <tbody>\n",
       "    <tr>\n",
       "      <th>count</th>\n",
       "      <td>15645.000000</td>\n",
       "      <td>15645.000000</td>\n",
       "      <td>15645.00000</td>\n",
       "      <td>15645.000000</td>\n",
       "      <td>15645.000000</td>\n",
       "      <td>15645.000000</td>\n",
       "      <td>15645.000000</td>\n",
       "      <td>15645.000000</td>\n",
       "    </tr>\n",
       "    <tr>\n",
       "      <th>mean</th>\n",
       "      <td>41.786731</td>\n",
       "      <td>45.367715</td>\n",
       "      <td>41.38032</td>\n",
       "      <td>44.592873</td>\n",
       "      <td>34.111282</td>\n",
       "      <td>37.466187</td>\n",
       "      <td>20.409588</td>\n",
       "      <td>22.181783</td>\n",
       "    </tr>\n",
       "    <tr>\n",
       "      <th>std</th>\n",
       "      <td>45.955563</td>\n",
       "      <td>47.145307</td>\n",
       "      <td>50.77372</td>\n",
       "      <td>51.139299</td>\n",
       "      <td>48.117646</td>\n",
       "      <td>49.456669</td>\n",
       "      <td>32.834936</td>\n",
       "      <td>34.924649</td>\n",
       "    </tr>\n",
       "    <tr>\n",
       "      <th>min</th>\n",
       "      <td>0.000000</td>\n",
       "      <td>0.000000</td>\n",
       "      <td>-1.00000</td>\n",
       "      <td>-1.000000</td>\n",
       "      <td>-1.000000</td>\n",
       "      <td>-1.000000</td>\n",
       "      <td>-1.000000</td>\n",
       "      <td>-1.000000</td>\n",
       "    </tr>\n",
       "    <tr>\n",
       "      <th>25%</th>\n",
       "      <td>0.000000</td>\n",
       "      <td>0.000000</td>\n",
       "      <td>0.00000</td>\n",
       "      <td>0.000000</td>\n",
       "      <td>-1.000000</td>\n",
       "      <td>-1.000000</td>\n",
       "      <td>-1.000000</td>\n",
       "      <td>-1.000000</td>\n",
       "    </tr>\n",
       "    <tr>\n",
       "      <th>50%</th>\n",
       "      <td>26.000000</td>\n",
       "      <td>32.000000</td>\n",
       "      <td>22.00000</td>\n",
       "      <td>28.000000</td>\n",
       "      <td>10.000000</td>\n",
       "      <td>13.000000</td>\n",
       "      <td>0.000000</td>\n",
       "      <td>0.000000</td>\n",
       "    </tr>\n",
       "    <tr>\n",
       "      <th>75%</th>\n",
       "      <td>66.000000</td>\n",
       "      <td>73.000000</td>\n",
       "      <td>65.00000</td>\n",
       "      <td>71.100000</td>\n",
       "      <td>58.500000</td>\n",
       "      <td>66.500000</td>\n",
       "      <td>32.000000</td>\n",
       "      <td>36.000000</td>\n",
       "    </tr>\n",
       "    <tr>\n",
       "      <th>max</th>\n",
       "      <td>286.200000</td>\n",
       "      <td>294.500000</td>\n",
       "      <td>301.50000</td>\n",
       "      <td>310.300000</td>\n",
       "      <td>286.200000</td>\n",
       "      <td>294.500000</td>\n",
       "      <td>259.000000</td>\n",
       "      <td>245.000000</td>\n",
       "    </tr>\n",
       "  </tbody>\n",
       "</table>\n",
       "</div>"
      ],
      "text/plain": [
       "             Dailyn        Dailys  Dailyn_area   Dailys_area   Daily_n_t06  \\\n",
       "count  15645.000000  15645.000000  15645.00000  15645.000000  15645.000000   \n",
       "mean      41.786731     45.367715     41.38032     44.592873     34.111282   \n",
       "std       45.955563     47.145307     50.77372     51.139299     48.117646   \n",
       "min        0.000000      0.000000     -1.00000     -1.000000     -1.000000   \n",
       "25%        0.000000      0.000000      0.00000      0.000000     -1.000000   \n",
       "50%       26.000000     32.000000     22.00000     28.000000     10.000000   \n",
       "75%       66.000000     73.000000     65.00000     71.100000     58.500000   \n",
       "max      286.200000    294.500000    301.50000    310.300000    286.200000   \n",
       "\n",
       "        Daily_s_t06    Dailyn_sil    Dailys_sil  \n",
       "count  15645.000000  15645.000000  15645.000000  \n",
       "mean      37.466187     20.409588     22.181783  \n",
       "std       49.456669     32.834936     34.924649  \n",
       "min       -1.000000     -1.000000     -1.000000  \n",
       "25%       -1.000000     -1.000000     -1.000000  \n",
       "50%       13.000000      0.000000      0.000000  \n",
       "75%       66.500000     32.000000     36.000000  \n",
       "max      294.500000    259.000000    245.000000  "
      ]
     },
     "execution_count": 70,
     "metadata": {},
     "output_type": "execute_result"
    }
   ],
   "source": [
    "df_sun.describe()"
   ]
  },
  {
   "cell_type": "code",
   "execution_count": 71,
   "metadata": {},
   "outputs": [
    {
     "data": {
      "text/html": [
       "<div>\n",
       "<style scoped>\n",
       "    .dataframe tbody tr th:only-of-type {\n",
       "        vertical-align: middle;\n",
       "    }\n",
       "\n",
       "    .dataframe tbody tr th {\n",
       "        vertical-align: top;\n",
       "    }\n",
       "\n",
       "    .dataframe thead th {\n",
       "        text-align: right;\n",
       "    }\n",
       "</style>\n",
       "<table border=\"1\" class=\"dataframe\">\n",
       "  <thead>\n",
       "    <tr style=\"text-align: right;\">\n",
       "      <th></th>\n",
       "      <th>Dailyn</th>\n",
       "      <th>Dailys</th>\n",
       "      <th>Dailyn_area</th>\n",
       "      <th>Dailys_area</th>\n",
       "      <th>Daily_n_t06</th>\n",
       "      <th>Daily_s_t06</th>\n",
       "      <th>Dailyn_sil</th>\n",
       "      <th>Dailys_sil</th>\n",
       "    </tr>\n",
       "    <tr>\n",
       "      <th>Date</th>\n",
       "      <th></th>\n",
       "      <th></th>\n",
       "      <th></th>\n",
       "      <th></th>\n",
       "      <th></th>\n",
       "      <th></th>\n",
       "      <th></th>\n",
       "      <th></th>\n",
       "    </tr>\n",
       "  </thead>\n",
       "  <tbody>\n",
       "    <tr>\n",
       "      <th>1978-01-01</th>\n",
       "      <td>50.9</td>\n",
       "      <td>76.1</td>\n",
       "      <td>53.0</td>\n",
       "      <td>74.0</td>\n",
       "      <td>50.9</td>\n",
       "      <td>76.1</td>\n",
       "      <td>-1</td>\n",
       "      <td>-1</td>\n",
       "    </tr>\n",
       "    <tr>\n",
       "      <th>1978-01-02</th>\n",
       "      <td>65.5</td>\n",
       "      <td>67.5</td>\n",
       "      <td>78.7</td>\n",
       "      <td>54.3</td>\n",
       "      <td>65.5</td>\n",
       "      <td>67.5</td>\n",
       "      <td>-1</td>\n",
       "      <td>-1</td>\n",
       "    </tr>\n",
       "    <tr>\n",
       "      <th>1978-01-03</th>\n",
       "      <td>94.7</td>\n",
       "      <td>52.3</td>\n",
       "      <td>91.2</td>\n",
       "      <td>55.8</td>\n",
       "      <td>94.7</td>\n",
       "      <td>52.3</td>\n",
       "      <td>-1</td>\n",
       "      <td>-1</td>\n",
       "    </tr>\n",
       "    <tr>\n",
       "      <th>1978-01-04</th>\n",
       "      <td>109.4</td>\n",
       "      <td>36.6</td>\n",
       "      <td>114.5</td>\n",
       "      <td>31.5</td>\n",
       "      <td>109.4</td>\n",
       "      <td>36.6</td>\n",
       "      <td>-1</td>\n",
       "      <td>-1</td>\n",
       "    </tr>\n",
       "    <tr>\n",
       "      <th>1978-01-05</th>\n",
       "      <td>82.8</td>\n",
       "      <td>46.2</td>\n",
       "      <td>85.7</td>\n",
       "      <td>43.3</td>\n",
       "      <td>82.8</td>\n",
       "      <td>46.2</td>\n",
       "      <td>-1</td>\n",
       "      <td>-1</td>\n",
       "    </tr>\n",
       "  </tbody>\n",
       "</table>\n",
       "</div>"
      ],
      "text/plain": [
       "            Dailyn  Dailys  Dailyn_area  Dailys_area  Daily_n_t06  \\\n",
       "Date                                                                \n",
       "1978-01-01    50.9    76.1         53.0         74.0         50.9   \n",
       "1978-01-02    65.5    67.5         78.7         54.3         65.5   \n",
       "1978-01-03    94.7    52.3         91.2         55.8         94.7   \n",
       "1978-01-04   109.4    36.6        114.5         31.5        109.4   \n",
       "1978-01-05    82.8    46.2         85.7         43.3         82.8   \n",
       "\n",
       "            Daily_s_t06  Dailyn_sil  Dailys_sil  \n",
       "Date                                             \n",
       "1978-01-01         76.1          -1          -1  \n",
       "1978-01-02         67.5          -1          -1  \n",
       "1978-01-03         52.3          -1          -1  \n",
       "1978-01-04         36.6          -1          -1  \n",
       "1978-01-05         46.2          -1          -1  "
      ]
     },
     "execution_count": 71,
     "metadata": {},
     "output_type": "execute_result"
    }
   ],
   "source": [
    "df_sun.head(5)"
   ]
  },
  {
   "cell_type": "markdown",
   "metadata": {},
   "source": [
    "### Rename Columns"
   ]
  },
  {
   "cell_type": "code",
   "execution_count": 72,
   "metadata": {},
   "outputs": [],
   "source": [
    "orig_columns = df_sun.columns.values.tolist()"
   ]
  },
  {
   "cell_type": "code",
   "execution_count": 73,
   "metadata": {},
   "outputs": [
    {
     "name": "stdout",
     "output_type": "stream",
     "text": [
      "<class 'pandas.core.frame.DataFrame'>\n",
      "DatetimeIndex: 15645 entries, 1978-01-01 to 2020-10-31\n",
      "Data columns (total 8 columns):\n",
      " #   Column  Non-Null Count  Dtype  \n",
      "---  ------  --------------  -----  \n",
      " 0   n       15645 non-null  float64\n",
      " 1   s       15645 non-null  float64\n",
      " 2   n_area  15645 non-null  float64\n",
      " 3   s_area  15645 non-null  float64\n",
      " 4   _n_t06  15645 non-null  float64\n",
      " 5   _s_t06  15645 non-null  float64\n",
      " 6   n_sil   15645 non-null  int64  \n",
      " 7   s_sil   15645 non-null  int64  \n",
      "dtypes: float64(6), int64(2)\n",
      "memory usage: 1.1 MB\n"
     ]
    }
   ],
   "source": [
    "for name in range(0, len(orig_columns)):\n",
    "    df_sun[orig_columns[name][5:]] = df_sun[orig_columns[name]]\n",
    "    df_sun = df_sun.drop([orig_columns[name]], axis=1)\n",
    "df_sun.info()"
   ]
  },
  {
   "cell_type": "code",
   "execution_count": 74,
   "metadata": {},
   "outputs": [
    {
     "name": "stdout",
     "output_type": "stream",
     "text": [
      "<class 'pandas.core.frame.DataFrame'>\n",
      "DatetimeIndex: 15645 entries, 1978-01-01 to 2020-10-31\n",
      "Data columns (total 8 columns):\n",
      " #   Column  Non-Null Count  Dtype  \n",
      "---  ------  --------------  -----  \n",
      " 0   n       15645 non-null  float64\n",
      " 1   s       15645 non-null  float64\n",
      " 2   n_area  15645 non-null  float64\n",
      " 3   s_area  15645 non-null  float64\n",
      " 4   n_sil   15645 non-null  int64  \n",
      " 5   s_sil   15645 non-null  int64  \n",
      " 6   n_t06   15645 non-null  float64\n",
      " 7   s_t06   15645 non-null  float64\n",
      "dtypes: float64(6), int64(2)\n",
      "memory usage: 1.1 MB\n"
     ]
    }
   ],
   "source": [
    "df_sun[\"n_t06\"] = df_sun[\"_n_t06\"]\n",
    "df_sun = df_sun.drop([\"_n_t06\"], axis=1)\n",
    "\n",
    "df_sun[\"s_t06\"] = df_sun[\"_s_t06\"]\n",
    "df_sun = df_sun.drop([\"_s_t06\"], axis=1)\n",
    "df_sun.info()"
   ]
  },
  {
   "cell_type": "markdown",
   "metadata": {},
   "source": [
    "### Clean Null Values"
   ]
  },
  {
   "cell_type": "markdown",
   "metadata": {},
   "source": [
    "Valid sun spot values are always positive, so these -1 values must be representing null values."
   ]
  },
  {
   "cell_type": "code",
   "execution_count": 75,
   "metadata": {},
   "outputs": [
    {
     "name": "stdout",
     "output_type": "stream",
     "text": [
      "<class 'pandas.core.frame.DataFrame'>\n",
      "DatetimeIndex: 15645 entries, 1978-01-01 to 2020-10-31\n",
      "Data columns (total 8 columns):\n",
      " #   Column  Non-Null Count  Dtype  \n",
      "---  ------  --------------  -----  \n",
      " 0   n       15645 non-null  float64\n",
      " 1   s       15645 non-null  float64\n",
      " 2   n_area  14153 non-null  float64\n",
      " 3   s_area  14153 non-null  float64\n",
      " 4   n_sil   10532 non-null  float64\n",
      " 5   s_sil   10532 non-null  float64\n",
      " 6   n_t06   9862 non-null   float64\n",
      " 7   s_t06   9862 non-null   float64\n",
      "dtypes: float64(8)\n",
      "memory usage: 1.1 MB\n"
     ]
    }
   ],
   "source": [
    "df_sun = df_sun.replace(-1.0, np.nan)\n",
    "df_sun.info()"
   ]
  },
  {
   "cell_type": "code",
   "execution_count": 76,
   "metadata": {},
   "outputs": [
    {
     "data": {
      "text/html": [
       "<div>\n",
       "<style scoped>\n",
       "    .dataframe tbody tr th:only-of-type {\n",
       "        vertical-align: middle;\n",
       "    }\n",
       "\n",
       "    .dataframe tbody tr th {\n",
       "        vertical-align: top;\n",
       "    }\n",
       "\n",
       "    .dataframe thead th {\n",
       "        text-align: right;\n",
       "    }\n",
       "</style>\n",
       "<table border=\"1\" class=\"dataframe\">\n",
       "  <thead>\n",
       "    <tr style=\"text-align: right;\">\n",
       "      <th></th>\n",
       "      <th>n</th>\n",
       "      <th>s</th>\n",
       "      <th>n_area</th>\n",
       "      <th>s_area</th>\n",
       "      <th>n_sil</th>\n",
       "      <th>s_sil</th>\n",
       "      <th>n_t06</th>\n",
       "      <th>s_t06</th>\n",
       "    </tr>\n",
       "  </thead>\n",
       "  <tbody>\n",
       "    <tr>\n",
       "      <th>count</th>\n",
       "      <td>15645.000000</td>\n",
       "      <td>15645.000000</td>\n",
       "      <td>14153.000000</td>\n",
       "      <td>14153.000000</td>\n",
       "      <td>10532.000000</td>\n",
       "      <td>10532.000000</td>\n",
       "      <td>9862.000000</td>\n",
       "      <td>9862.000000</td>\n",
       "    </tr>\n",
       "    <tr>\n",
       "      <th>mean</th>\n",
       "      <td>41.786731</td>\n",
       "      <td>45.367715</td>\n",
       "      <td>45.848025</td>\n",
       "      <td>49.399244</td>\n",
       "      <td>30.803361</td>\n",
       "      <td>33.435910</td>\n",
       "      <td>54.700264</td>\n",
       "      <td>60.022460</td>\n",
       "    </tr>\n",
       "    <tr>\n",
       "      <th>std</th>\n",
       "      <td>45.955563</td>\n",
       "      <td>47.145307</td>\n",
       "      <td>51.385210</td>\n",
       "      <td>51.465410</td>\n",
       "      <td>35.651069</td>\n",
       "      <td>37.740572</td>\n",
       "      <td>50.261277</td>\n",
       "      <td>50.038204</td>\n",
       "    </tr>\n",
       "    <tr>\n",
       "      <th>min</th>\n",
       "      <td>0.000000</td>\n",
       "      <td>0.000000</td>\n",
       "      <td>0.000000</td>\n",
       "      <td>-0.100000</td>\n",
       "      <td>0.000000</td>\n",
       "      <td>0.000000</td>\n",
       "      <td>0.000000</td>\n",
       "      <td>0.000000</td>\n",
       "    </tr>\n",
       "    <tr>\n",
       "      <th>25%</th>\n",
       "      <td>0.000000</td>\n",
       "      <td>0.000000</td>\n",
       "      <td>3.700000</td>\n",
       "      <td>6.500000</td>\n",
       "      <td>0.000000</td>\n",
       "      <td>0.000000</td>\n",
       "      <td>13.000000</td>\n",
       "      <td>18.000000</td>\n",
       "    </tr>\n",
       "    <tr>\n",
       "      <th>50%</th>\n",
       "      <td>26.000000</td>\n",
       "      <td>32.000000</td>\n",
       "      <td>28.400000</td>\n",
       "      <td>35.100000</td>\n",
       "      <td>19.000000</td>\n",
       "      <td>21.000000</td>\n",
       "      <td>42.450000</td>\n",
       "      <td>52.600000</td>\n",
       "    </tr>\n",
       "    <tr>\n",
       "      <th>75%</th>\n",
       "      <td>66.000000</td>\n",
       "      <td>73.000000</td>\n",
       "      <td>71.400000</td>\n",
       "      <td>77.000000</td>\n",
       "      <td>47.000000</td>\n",
       "      <td>54.000000</td>\n",
       "      <td>87.100000</td>\n",
       "      <td>90.800000</td>\n",
       "    </tr>\n",
       "    <tr>\n",
       "      <th>max</th>\n",
       "      <td>286.200000</td>\n",
       "      <td>294.500000</td>\n",
       "      <td>301.500000</td>\n",
       "      <td>310.300000</td>\n",
       "      <td>259.000000</td>\n",
       "      <td>245.000000</td>\n",
       "      <td>286.200000</td>\n",
       "      <td>294.500000</td>\n",
       "    </tr>\n",
       "  </tbody>\n",
       "</table>\n",
       "</div>"
      ],
      "text/plain": [
       "                  n             s        n_area        s_area         n_sil  \\\n",
       "count  15645.000000  15645.000000  14153.000000  14153.000000  10532.000000   \n",
       "mean      41.786731     45.367715     45.848025     49.399244     30.803361   \n",
       "std       45.955563     47.145307     51.385210     51.465410     35.651069   \n",
       "min        0.000000      0.000000      0.000000     -0.100000      0.000000   \n",
       "25%        0.000000      0.000000      3.700000      6.500000      0.000000   \n",
       "50%       26.000000     32.000000     28.400000     35.100000     19.000000   \n",
       "75%       66.000000     73.000000     71.400000     77.000000     47.000000   \n",
       "max      286.200000    294.500000    301.500000    310.300000    259.000000   \n",
       "\n",
       "              s_sil        n_t06        s_t06  \n",
       "count  10532.000000  9862.000000  9862.000000  \n",
       "mean      33.435910    54.700264    60.022460  \n",
       "std       37.740572    50.261277    50.038204  \n",
       "min        0.000000     0.000000     0.000000  \n",
       "25%        0.000000    13.000000    18.000000  \n",
       "50%       21.000000    42.450000    52.600000  \n",
       "75%       54.000000    87.100000    90.800000  \n",
       "max      245.000000   286.200000   294.500000  "
      ]
     },
     "execution_count": 76,
     "metadata": {},
     "output_type": "execute_result"
    }
   ],
   "source": [
    "df_sun.describe()"
   ]
  },
  {
   "cell_type": "markdown",
   "metadata": {},
   "source": [
    "I am going to guess that this one -0.1 value is an input error and replace it with a 0."
   ]
  },
  {
   "cell_type": "code",
   "execution_count": 77,
   "metadata": {},
   "outputs": [],
   "source": [
    "df_sun.loc[df_sun[\"s_area\"] == -0.1] = 0.0"
   ]
  },
  {
   "cell_type": "code",
   "execution_count": 78,
   "metadata": {},
   "outputs": [
    {
     "data": {
      "text/html": [
       "<div>\n",
       "<style scoped>\n",
       "    .dataframe tbody tr th:only-of-type {\n",
       "        vertical-align: middle;\n",
       "    }\n",
       "\n",
       "    .dataframe tbody tr th {\n",
       "        vertical-align: top;\n",
       "    }\n",
       "\n",
       "    .dataframe thead th {\n",
       "        text-align: right;\n",
       "    }\n",
       "</style>\n",
       "<table border=\"1\" class=\"dataframe\">\n",
       "  <thead>\n",
       "    <tr style=\"text-align: right;\">\n",
       "      <th></th>\n",
       "      <th>n</th>\n",
       "      <th>s</th>\n",
       "      <th>n_area</th>\n",
       "      <th>s_area</th>\n",
       "      <th>n_sil</th>\n",
       "      <th>s_sil</th>\n",
       "      <th>n_t06</th>\n",
       "      <th>s_t06</th>\n",
       "    </tr>\n",
       "  </thead>\n",
       "  <tbody>\n",
       "    <tr>\n",
       "      <th>count</th>\n",
       "      <td>15645.000000</td>\n",
       "      <td>15645.000000</td>\n",
       "      <td>14153.000000</td>\n",
       "      <td>14153.000000</td>\n",
       "      <td>10533.000000</td>\n",
       "      <td>10533.000000</td>\n",
       "      <td>9862.000000</td>\n",
       "      <td>9862.000000</td>\n",
       "    </tr>\n",
       "    <tr>\n",
       "      <th>mean</th>\n",
       "      <td>41.783726</td>\n",
       "      <td>45.367715</td>\n",
       "      <td>45.844704</td>\n",
       "      <td>49.399251</td>\n",
       "      <td>30.800437</td>\n",
       "      <td>33.432735</td>\n",
       "      <td>54.695498</td>\n",
       "      <td>60.022460</td>\n",
       "    </tr>\n",
       "    <tr>\n",
       "      <th>std</th>\n",
       "      <td>45.956758</td>\n",
       "      <td>47.145307</td>\n",
       "      <td>51.386654</td>\n",
       "      <td>51.465403</td>\n",
       "      <td>35.650640</td>\n",
       "      <td>37.740186</td>\n",
       "      <td>50.264235</td>\n",
       "      <td>50.038204</td>\n",
       "    </tr>\n",
       "    <tr>\n",
       "      <th>min</th>\n",
       "      <td>0.000000</td>\n",
       "      <td>0.000000</td>\n",
       "      <td>0.000000</td>\n",
       "      <td>0.000000</td>\n",
       "      <td>0.000000</td>\n",
       "      <td>0.000000</td>\n",
       "      <td>0.000000</td>\n",
       "      <td>0.000000</td>\n",
       "    </tr>\n",
       "    <tr>\n",
       "      <th>25%</th>\n",
       "      <td>0.000000</td>\n",
       "      <td>0.000000</td>\n",
       "      <td>3.700000</td>\n",
       "      <td>6.500000</td>\n",
       "      <td>0.000000</td>\n",
       "      <td>0.000000</td>\n",
       "      <td>13.000000</td>\n",
       "      <td>18.000000</td>\n",
       "    </tr>\n",
       "    <tr>\n",
       "      <th>50%</th>\n",
       "      <td>26.000000</td>\n",
       "      <td>32.000000</td>\n",
       "      <td>28.400000</td>\n",
       "      <td>35.100000</td>\n",
       "      <td>19.000000</td>\n",
       "      <td>21.000000</td>\n",
       "      <td>42.400000</td>\n",
       "      <td>52.600000</td>\n",
       "    </tr>\n",
       "    <tr>\n",
       "      <th>75%</th>\n",
       "      <td>66.000000</td>\n",
       "      <td>73.000000</td>\n",
       "      <td>71.400000</td>\n",
       "      <td>77.000000</td>\n",
       "      <td>47.000000</td>\n",
       "      <td>54.000000</td>\n",
       "      <td>87.100000</td>\n",
       "      <td>90.800000</td>\n",
       "    </tr>\n",
       "    <tr>\n",
       "      <th>max</th>\n",
       "      <td>286.200000</td>\n",
       "      <td>294.500000</td>\n",
       "      <td>301.500000</td>\n",
       "      <td>310.300000</td>\n",
       "      <td>259.000000</td>\n",
       "      <td>245.000000</td>\n",
       "      <td>286.200000</td>\n",
       "      <td>294.500000</td>\n",
       "    </tr>\n",
       "  </tbody>\n",
       "</table>\n",
       "</div>"
      ],
      "text/plain": [
       "                  n             s        n_area        s_area         n_sil  \\\n",
       "count  15645.000000  15645.000000  14153.000000  14153.000000  10533.000000   \n",
       "mean      41.783726     45.367715     45.844704     49.399251     30.800437   \n",
       "std       45.956758     47.145307     51.386654     51.465403     35.650640   \n",
       "min        0.000000      0.000000      0.000000      0.000000      0.000000   \n",
       "25%        0.000000      0.000000      3.700000      6.500000      0.000000   \n",
       "50%       26.000000     32.000000     28.400000     35.100000     19.000000   \n",
       "75%       66.000000     73.000000     71.400000     77.000000     47.000000   \n",
       "max      286.200000    294.500000    301.500000    310.300000    259.000000   \n",
       "\n",
       "              s_sil        n_t06        s_t06  \n",
       "count  10533.000000  9862.000000  9862.000000  \n",
       "mean      33.432735    54.695498    60.022460  \n",
       "std       37.740186    50.264235    50.038204  \n",
       "min        0.000000     0.000000     0.000000  \n",
       "25%        0.000000    13.000000    18.000000  \n",
       "50%       21.000000    42.400000    52.600000  \n",
       "75%       54.000000    87.100000    90.800000  \n",
       "max      245.000000   286.200000   294.500000  "
      ]
     },
     "execution_count": 78,
     "metadata": {},
     "output_type": "execute_result"
    }
   ],
   "source": [
    "df_sun.describe()"
   ]
  },
  {
   "cell_type": "code",
   "execution_count": 79,
   "metadata": {},
   "outputs": [
    {
     "data": {
      "text/plain": [
       "DatetimeIndex(['2016-10-01', '2016-10-02', '2016-10-03', '2016-10-04',\n",
       "               '2016-10-05', '2016-10-06', '2016-10-07', '2016-10-08',\n",
       "               '2016-10-09', '2016-10-10',\n",
       "               ...\n",
       "               '2020-10-22', '2020-10-23', '2020-10-24', '2020-10-25',\n",
       "               '2020-10-26', '2020-10-27', '2020-10-28', '2020-10-29',\n",
       "               '2020-10-30', '2020-10-31'],\n",
       "              dtype='datetime64[ns]', name='Date', length=1492, freq=None)"
      ]
     },
     "execution_count": 79,
     "metadata": {},
     "output_type": "execute_result"
    }
   ],
   "source": [
    "df_sun.loc[df_sun[\"n_area\"].isnull()].index"
   ]
  },
  {
   "cell_type": "code",
   "execution_count": 80,
   "metadata": {},
   "outputs": [
    {
     "data": {
      "text/plain": [
       "DatetimeIndex(['2016-10-01', '2016-10-02', '2016-10-03', '2016-10-04',\n",
       "               '2016-10-05', '2016-10-06', '2016-10-07', '2016-10-08',\n",
       "               '2016-10-09', '2016-10-10',\n",
       "               ...\n",
       "               '2020-10-22', '2020-10-23', '2020-10-24', '2020-10-25',\n",
       "               '2020-10-26', '2020-10-27', '2020-10-28', '2020-10-29',\n",
       "               '2020-10-30', '2020-10-31'],\n",
       "              dtype='datetime64[ns]', name='Date', length=1492, freq=None)"
      ]
     },
     "execution_count": 80,
     "metadata": {},
     "output_type": "execute_result"
    }
   ],
   "source": [
    "df_sun.loc[df_sun[\"s_area\"].isnull()].index"
   ]
  },
  {
   "cell_type": "code",
   "execution_count": 81,
   "metadata": {},
   "outputs": [
    {
     "data": {
      "text/plain": [
       "DatetimeIndex(['1978-01-01', '1978-01-02', '1978-01-03', '1978-01-04',\n",
       "               '1978-01-05', '1978-01-06', '1978-01-07', '1978-01-08',\n",
       "               '1978-01-09', '1978-01-10',\n",
       "               ...\n",
       "               '1991-12-22', '1991-12-23', '1991-12-24', '1991-12-25',\n",
       "               '1991-12-26', '1991-12-27', '1991-12-28', '1991-12-29',\n",
       "               '1991-12-30', '1991-12-31'],\n",
       "              dtype='datetime64[ns]', name='Date', length=5112, freq=None)"
      ]
     },
     "execution_count": 81,
     "metadata": {},
     "output_type": "execute_result"
    }
   ],
   "source": [
    "df_sun.loc[df_sun[\"n_sil\"].isnull()].index"
   ]
  },
  {
   "cell_type": "code",
   "execution_count": 82,
   "metadata": {},
   "outputs": [
    {
     "data": {
      "text/plain": [
       "DatetimeIndex(['1978-01-01', '1978-01-02', '1978-01-03', '1978-01-04',\n",
       "               '1978-01-05', '1978-01-06', '1978-01-07', '1978-01-08',\n",
       "               '1978-01-09', '1978-01-10',\n",
       "               ...\n",
       "               '1991-12-22', '1991-12-23', '1991-12-24', '1991-12-25',\n",
       "               '1991-12-26', '1991-12-27', '1991-12-28', '1991-12-29',\n",
       "               '1991-12-30', '1991-12-31'],\n",
       "              dtype='datetime64[ns]', name='Date', length=5112, freq=None)"
      ]
     },
     "execution_count": 82,
     "metadata": {},
     "output_type": "execute_result"
    }
   ],
   "source": [
    "df_sun.loc[df_sun[\"s_sil\"].isnull()].index"
   ]
  },
  {
   "cell_type": "code",
   "execution_count": 83,
   "metadata": {},
   "outputs": [
    {
     "data": {
      "text/plain": [
       "DatetimeIndex(['2005-01-01', '2005-01-02', '2005-01-03', '2005-01-04',\n",
       "               '2005-01-05', '2005-01-06', '2005-01-07', '2005-01-08',\n",
       "               '2005-01-09', '2005-01-10',\n",
       "               ...\n",
       "               '2020-10-22', '2020-10-23', '2020-10-24', '2020-10-25',\n",
       "               '2020-10-26', '2020-10-27', '2020-10-28', '2020-10-29',\n",
       "               '2020-10-30', '2020-10-31'],\n",
       "              dtype='datetime64[ns]', name='Date', length=5783, freq=None)"
      ]
     },
     "execution_count": 83,
     "metadata": {},
     "output_type": "execute_result"
    }
   ],
   "source": [
    "df_sun.loc[df_sun[\"n_t06\"].isnull()].index"
   ]
  },
  {
   "cell_type": "code",
   "execution_count": 84,
   "metadata": {},
   "outputs": [
    {
     "data": {
      "text/plain": [
       "DatetimeIndex(['2005-01-01', '2005-01-02', '2005-01-03', '2005-01-04',\n",
       "               '2005-01-05', '2005-01-06', '2005-01-07', '2005-01-08',\n",
       "               '2005-01-09', '2005-01-10',\n",
       "               ...\n",
       "               '2020-10-22', '2020-10-23', '2020-10-24', '2020-10-25',\n",
       "               '2020-10-26', '2020-10-27', '2020-10-28', '2020-10-29',\n",
       "               '2020-10-30', '2020-10-31'],\n",
       "              dtype='datetime64[ns]', name='Date', length=5783, freq=None)"
      ]
     },
     "execution_count": 84,
     "metadata": {},
     "output_type": "execute_result"
    }
   ],
   "source": [
    "df_sun.loc[df_sun[\"s_t06\"].isnull()].index"
   ]
  },
  {
   "cell_type": "markdown",
   "metadata": {},
   "source": [
    "As expected, the pairs of variables are missing the same values. I unfortunately do not know what the \"n_area\", \"s_area\", \"n_sil\", \"s_sil\", \"n_t06\", or \"s_t06\" columns represent due to lacking metadata, but I will hopefully figure that out once I can get back in touch with the dataset provider. For now, I will only use the \"n\" and \"s\" columns due to having perfect daily data for them:\n",
    "- \"n\" = Number of sun_spots in the Northern Hemisphere\n",
    "- \"s\" = Number of sun_spots in the Southern Hemisphere"
   ]
  },
  {
   "cell_type": "code",
   "execution_count": 85,
   "metadata": {},
   "outputs": [
    {
     "data": {
      "image/png": "[encoded data removed]",
      "text/plain": [
       "<Figure size 720x720 with 2 Axes>"
      ]
     },
     "metadata": {
      "needs_background": "light"
     },
     "output_type": "display_data"
    }
   ],
   "source": [
    "corr_matrix = df_sun.corr()\n",
    "\n",
    "f, ax = plt.subplots(figsize=(10, 10))\n",
    "ax = sns.heatmap(corr_matrix, annot=True)\n",
    "ax = plt.rcParams.update({'font.size': 15})\n",
    "plt.show()"
   ]
  },
  {
   "cell_type": "markdown",
   "metadata": {},
   "source": [
    "### Drop Columns"
   ]
  },
  {
   "cell_type": "code",
   "execution_count": 86,
   "metadata": {},
   "outputs": [
    {
     "name": "stdout",
     "output_type": "stream",
     "text": [
      "<class 'pandas.core.frame.DataFrame'>\n",
      "DatetimeIndex: 15645 entries, 1978-01-01 to 2020-10-31\n",
      "Data columns (total 2 columns):\n",
      " #   Column  Non-Null Count  Dtype  \n",
      "---  ------  --------------  -----  \n",
      " 0   n       15645 non-null  float64\n",
      " 1   s       15645 non-null  float64\n",
      "dtypes: float64(2)\n",
      "memory usage: 366.7 KB\n"
     ]
    }
   ],
   "source": [
    "df_sun = df_sun.drop(\n",
    "    [\"n_area\", \"s_area\", \"n_sil\", \"s_sil\", \"n_t06\", \"s_t06\"], \n",
    "    axis=1\n",
    ")\n",
    "df_sun.info()"
   ]
  },
  {
   "cell_type": "code",
   "execution_count": 87,
   "metadata": {
    "scrolled": true
   },
   "outputs": [
    {
     "name": "stdout",
     "output_type": "stream",
     "text": [
      "<class 'pandas.core.frame.DataFrame'>\n",
      "DatetimeIndex: 15645 entries, 1978-01-01 to 2020-10-31\n",
      "Data columns (total 2 columns):\n",
      " #   Column           Non-Null Count  Dtype  \n",
      "---  ------           --------------  -----  \n",
      " 0   sun_spots_north  15645 non-null  float64\n",
      " 1   sun_spots_south  15645 non-null  float64\n",
      "dtypes: float64(2)\n",
      "memory usage: 366.7 KB\n"
     ]
    }
   ],
   "source": [
    "df_sun[\"sun_spots_north\"] = df_sun[\"n\"]\n",
    "df_sun[\"sun_spots_south\"] = df_sun[\"s\"]\n",
    "df_sun = df_sun.drop([\"n\", \"s\"], axis=1)\n",
    "df_sun.info()"
   ]
  },
  {
   "cell_type": "code",
   "execution_count": 88,
   "metadata": {},
   "outputs": [
    {
     "data": {
      "image/png": "[encoded data removed]",
      "text/plain": [
       "<Figure size 432x288 with 1 Axes>"
      ]
     },
     "metadata": {
      "needs_background": "light"
     },
     "output_type": "display_data"
    }
   ],
   "source": [
    "df_sun.iloc[:].boxplot()\n",
    "plt.show()"
   ]
  },
  {
   "cell_type": "code",
   "execution_count": 89,
   "metadata": {},
   "outputs": [],
   "source": [
    "df_sun.to_csv(\"../Data/Teleconnection_Time_Series/Sun_Spots_Clean.csv\")"
   ]
  }
 ],
 "metadata": {
  "kernelspec": {
   "display_name": "Python 3",
   "language": "python",
   "name": "python3"
  },
  "language_info": {
   "codemirror_mode": {
    "name": "ipython",
    "version": 3
   },
   "file_extension": ".py",
   "mimetype": "text/x-python",
   "name": "python",
   "nbconvert_exporter": "python",
   "pygments_lexer": "ipython3",
   "version": "3.9.12"
  }
 },
 "nbformat": 4,
 "nbformat_minor": 4
}
